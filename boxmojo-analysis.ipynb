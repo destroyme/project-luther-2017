{
 "cells": [
  {
   "cell_type": "code",
   "execution_count": 1,
   "metadata": {
    "collapsed": true
   },
   "outputs": [],
   "source": [
    "# Modeling\n",
    "import statsmodels.api as sm\n",
    "import statsmodels.formula.api as smf\n",
    "import patsy\n",
    "from sklearn.linear_model import LinearRegression\n",
    "from sklearn.linear_model import RidgeCV\n",
    "\n",
    "# Using PolynomialFeatures and make_pipeline for Polynomial Regression\n",
    "from sklearn.preprocessing import PolynomialFeatures\n",
    "from sklearn.pipeline import make_pipeline\n",
    "\n",
    "# Data wrangling\n",
    "import pandas as pd\n",
    "import numpy as np\n",
    "import re\n",
    "\n",
    "# Time\n",
    "import time\n",
    "import datetime\n",
    "from datetime import datetime as dt\n",
    "import dateutil.parser\n",
    "\n",
    "# Plotting\n",
    "# import matplotlib.pyplot as plt\n",
    "import seaborn as sns\n",
    "from seaborn import plt\n",
    "\n",
    "# URL Grabbing\n",
    "import requests\n",
    "\n",
    "# Scraping / Searching\n",
    "from bs4 import BeautifulSoup\n",
    "import re\n",
    "\n",
    "# Misc\n",
    "import pickle\n",
    "from pprint import pprint\n",
    "\n",
    "%matplotlib inline\n",
    "pd.set_option('display.float_format', lambda x: '%.2f' % x) # reduces the amount of decimals when printing the df's"
   ]
  },
  {
   "cell_type": "code",
   "execution_count": 2,
   "metadata": {
    "collapsed": true
   },
   "outputs": [],
   "source": [
    "with open(\"movies.pkl\", 'rb') as picklefile: \n",
    "    df = pickle.load(picklefile)"
   ]
  },
  {
   "cell_type": "code",
   "execution_count": 3,
   "metadata": {},
   "outputs": [
    {
     "data": {
      "text/html": [
       "<div>\n",
       "<table border=\"1\" class=\"dataframe\">\n",
       "  <thead>\n",
       "    <tr style=\"text-align: right;\">\n",
       "      <th></th>\n",
       "      <th>0</th>\n",
       "      <th>1</th>\n",
       "      <th>2</th>\n",
       "      <th>3</th>\n",
       "      <th>4</th>\n",
       "    </tr>\n",
       "  </thead>\n",
       "  <tbody>\n",
       "    <tr>\n",
       "      <th>index</th>\n",
       "      <td>The Other Side of the Mountain Part II</td>\n",
       "      <td>Universal Soldier</td>\n",
       "      <td>Newtown</td>\n",
       "      <td>Mommie Dearest</td>\n",
       "      <td>G.B.F.</td>\n",
       "    </tr>\n",
       "    <tr>\n",
       "      <th>actors</th>\n",
       "      <td>NaN</td>\n",
       "      <td>[Jean-Claude Van Damme, Dolph Lundgren]</td>\n",
       "      <td>NaN</td>\n",
       "      <td>NaN</td>\n",
       "      <td>[Natasha Lyonne, Megan Mullally]</td>\n",
       "    </tr>\n",
       "    <tr>\n",
       "      <th>close_date</th>\n",
       "      <td>NaT</td>\n",
       "      <td>NaT</td>\n",
       "      <td>NaT</td>\n",
       "      <td>NaT</td>\n",
       "      <td>NaT</td>\n",
       "    </tr>\n",
       "    <tr>\n",
       "      <th>composers</th>\n",
       "      <td>NaN</td>\n",
       "      <td>[Tim Simonec]</td>\n",
       "      <td>NaN</td>\n",
       "      <td>NaN</td>\n",
       "      <td>NaN</td>\n",
       "    </tr>\n",
       "    <tr>\n",
       "      <th>days_in_theater</th>\n",
       "      <td>NaN</td>\n",
       "      <td>NaN</td>\n",
       "      <td>14.00</td>\n",
       "      <td>NaN</td>\n",
       "      <td>NaN</td>\n",
       "    </tr>\n",
       "    <tr>\n",
       "      <th>directors</th>\n",
       "      <td>NaN</td>\n",
       "      <td>[Roland Emmerich]</td>\n",
       "      <td>NaN</td>\n",
       "      <td>NaN</td>\n",
       "      <td>NaN</td>\n",
       "    </tr>\n",
       "    <tr>\n",
       "      <th>domestic_gross_adj</th>\n",
       "      <td>42753500.00</td>\n",
       "      <td>75661200.00</td>\n",
       "      <td>13900.00</td>\n",
       "      <td>59219100.00</td>\n",
       "      <td>NaN</td>\n",
       "    </tr>\n",
       "    <tr>\n",
       "      <th>foreign_unadj</th>\n",
       "      <td>NaN</td>\n",
       "      <td>NaN</td>\n",
       "      <td>NaN</td>\n",
       "      <td>NaN</td>\n",
       "      <td>NaN</td>\n",
       "    </tr>\n",
       "    <tr>\n",
       "      <th>genre</th>\n",
       "      <td>Romance</td>\n",
       "      <td>Sci-Fi Action</td>\n",
       "      <td>Documentary</td>\n",
       "      <td>Drama</td>\n",
       "      <td>Comedy</td>\n",
       "    </tr>\n",
       "    <tr>\n",
       "      <th>mpaa_rating</th>\n",
       "      <td>PG</td>\n",
       "      <td>R</td>\n",
       "      <td>Unrated</td>\n",
       "      <td>PG</td>\n",
       "      <td>R</td>\n",
       "    </tr>\n",
       "    <tr>\n",
       "      <th>number_of_theaters</th>\n",
       "      <td>NaN</td>\n",
       "      <td>1925.00</td>\n",
       "      <td>3.00</td>\n",
       "      <td>NaN</td>\n",
       "      <td>NaN</td>\n",
       "    </tr>\n",
       "    <tr>\n",
       "      <th>opening_weekend_adj</th>\n",
       "      <td>NaN</td>\n",
       "      <td>20962400.00</td>\n",
       "      <td>6700.00</td>\n",
       "      <td>NaN</td>\n",
       "      <td>NaN</td>\n",
       "    </tr>\n",
       "    <tr>\n",
       "      <th>producers</th>\n",
       "      <td>NaN</td>\n",
       "      <td>NaN</td>\n",
       "      <td>NaN</td>\n",
       "      <td>NaN</td>\n",
       "      <td>NaN</td>\n",
       "    </tr>\n",
       "    <tr>\n",
       "      <th>production_budget_adj</th>\n",
       "      <td>NaN</td>\n",
       "      <td>NaN</td>\n",
       "      <td>NaN</td>\n",
       "      <td>NaN</td>\n",
       "      <td>NaN</td>\n",
       "    </tr>\n",
       "    <tr>\n",
       "      <th>release_date</th>\n",
       "      <td>1978-01-01 00:00:00</td>\n",
       "      <td>1992-07-10 00:00:00</td>\n",
       "      <td>2016-10-07 00:00:00</td>\n",
       "      <td>1981-09-18 00:00:00</td>\n",
       "      <td>2014-01-17 00:00:00</td>\n",
       "    </tr>\n",
       "    <tr>\n",
       "      <th>runtime</th>\n",
       "      <td>100.00</td>\n",
       "      <td>102.00</td>\n",
       "      <td>85.00</td>\n",
       "      <td>129.00</td>\n",
       "      <td>93.00</td>\n",
       "    </tr>\n",
       "    <tr>\n",
       "      <th>worldwide_gross_unadj</th>\n",
       "      <td>NaN</td>\n",
       "      <td>NaN</td>\n",
       "      <td>NaN</td>\n",
       "      <td>NaN</td>\n",
       "      <td>NaN</td>\n",
       "    </tr>\n",
       "    <tr>\n",
       "      <th>writers</th>\n",
       "      <td>NaN</td>\n",
       "      <td>[Dean Devlin]</td>\n",
       "      <td>NaN</td>\n",
       "      <td>NaN</td>\n",
       "      <td>NaN</td>\n",
       "    </tr>\n",
       "  </tbody>\n",
       "</table>\n",
       "</div>"
      ],
      "text/plain": [
       "                                                            0  \\\n",
       "index                  The Other Side of the Mountain Part II   \n",
       "actors                                                    NaN   \n",
       "close_date                                                NaT   \n",
       "composers                                                 NaN   \n",
       "days_in_theater                                           NaN   \n",
       "directors                                                 NaN   \n",
       "domestic_gross_adj                                42753500.00   \n",
       "foreign_unadj                                             NaN   \n",
       "genre                                                 Romance   \n",
       "mpaa_rating                                                PG   \n",
       "number_of_theaters                                        NaN   \n",
       "opening_weekend_adj                                       NaN   \n",
       "producers                                                 NaN   \n",
       "production_budget_adj                                     NaN   \n",
       "release_date                              1978-01-01 00:00:00   \n",
       "runtime                                                100.00   \n",
       "worldwide_gross_unadj                                     NaN   \n",
       "writers                                                   NaN   \n",
       "\n",
       "                                                             1  \\\n",
       "index                                        Universal Soldier   \n",
       "actors                 [Jean-Claude Van Damme, Dolph Lundgren]   \n",
       "close_date                                                 NaT   \n",
       "composers                                        [Tim Simonec]   \n",
       "days_in_theater                                            NaN   \n",
       "directors                                    [Roland Emmerich]   \n",
       "domestic_gross_adj                                 75661200.00   \n",
       "foreign_unadj                                              NaN   \n",
       "genre                                            Sci-Fi Action   \n",
       "mpaa_rating                                                  R   \n",
       "number_of_theaters                                     1925.00   \n",
       "opening_weekend_adj                                20962400.00   \n",
       "producers                                                  NaN   \n",
       "production_budget_adj                                      NaN   \n",
       "release_date                               1992-07-10 00:00:00   \n",
       "runtime                                                 102.00   \n",
       "worldwide_gross_unadj                                      NaN   \n",
       "writers                                          [Dean Devlin]   \n",
       "\n",
       "                                         2                    3  \\\n",
       "index                              Newtown       Mommie Dearest   \n",
       "actors                                 NaN                  NaN   \n",
       "close_date                             NaT                  NaT   \n",
       "composers                              NaN                  NaN   \n",
       "days_in_theater                      14.00                  NaN   \n",
       "directors                              NaN                  NaN   \n",
       "domestic_gross_adj                13900.00          59219100.00   \n",
       "foreign_unadj                          NaN                  NaN   \n",
       "genre                          Documentary                Drama   \n",
       "mpaa_rating                        Unrated                   PG   \n",
       "number_of_theaters                    3.00                  NaN   \n",
       "opening_weekend_adj                6700.00                  NaN   \n",
       "producers                              NaN                  NaN   \n",
       "production_budget_adj                  NaN                  NaN   \n",
       "release_date           2016-10-07 00:00:00  1981-09-18 00:00:00   \n",
       "runtime                              85.00               129.00   \n",
       "worldwide_gross_unadj                  NaN                  NaN   \n",
       "writers                                NaN                  NaN   \n",
       "\n",
       "                                                      4  \n",
       "index                                            G.B.F.  \n",
       "actors                 [Natasha Lyonne, Megan Mullally]  \n",
       "close_date                                          NaT  \n",
       "composers                                           NaN  \n",
       "days_in_theater                                     NaN  \n",
       "directors                                           NaN  \n",
       "domestic_gross_adj                                  NaN  \n",
       "foreign_unadj                                       NaN  \n",
       "genre                                            Comedy  \n",
       "mpaa_rating                                           R  \n",
       "number_of_theaters                                  NaN  \n",
       "opening_weekend_adj                                 NaN  \n",
       "producers                                           NaN  \n",
       "production_budget_adj                               NaN  \n",
       "release_date                        2014-01-17 00:00:00  \n",
       "runtime                                           93.00  \n",
       "worldwide_gross_unadj                               NaN  \n",
       "writers                                             NaN  "
      ]
     },
     "execution_count": 3,
     "metadata": {},
     "output_type": "execute_result"
    }
   ],
   "source": [
    "df.head().T"
   ]
  },
  {
   "cell_type": "code",
   "execution_count": 4,
   "metadata": {},
   "outputs": [],
   "source": [
    "# dropping all the multidimensional data, that will be engineered later\n",
    "df_domestic_pred = df.drop(['actors', 'composers', 'directors', 'producers', 'writers'], 1)\n",
    "\n",
    "# drop all the unadjusted data\n",
    "df_domestic_pred = df_domestic_pred.drop(['foreign_unadj', 'worldwide_gross_unadj'], 1)\n",
    "\n",
    "# dropping highly correlated data (and intertwined)\n",
    "df_domestic_pred = df_domestic_pred.drop(['opening_weekend_adj'], 1)"
   ]
  },
  {
   "cell_type": "code",
   "execution_count": 5,
   "metadata": {},
   "outputs": [
    {
     "data": {
      "text/html": [
       "<div>\n",
       "<table border=\"1\" class=\"dataframe\">\n",
       "  <thead>\n",
       "    <tr style=\"text-align: right;\">\n",
       "      <th></th>\n",
       "      <th>0</th>\n",
       "      <th>1</th>\n",
       "      <th>2</th>\n",
       "      <th>3</th>\n",
       "      <th>4</th>\n",
       "    </tr>\n",
       "  </thead>\n",
       "  <tbody>\n",
       "    <tr>\n",
       "      <th>index</th>\n",
       "      <td>The Other Side of the Mountain Part II</td>\n",
       "      <td>Universal Soldier</td>\n",
       "      <td>Newtown</td>\n",
       "      <td>Mommie Dearest</td>\n",
       "      <td>G.B.F.</td>\n",
       "    </tr>\n",
       "    <tr>\n",
       "      <th>close_date</th>\n",
       "      <td>NaT</td>\n",
       "      <td>NaT</td>\n",
       "      <td>NaT</td>\n",
       "      <td>NaT</td>\n",
       "      <td>NaT</td>\n",
       "    </tr>\n",
       "    <tr>\n",
       "      <th>days_in_theater</th>\n",
       "      <td>NaN</td>\n",
       "      <td>NaN</td>\n",
       "      <td>14.00</td>\n",
       "      <td>NaN</td>\n",
       "      <td>NaN</td>\n",
       "    </tr>\n",
       "    <tr>\n",
       "      <th>domestic_gross_adj</th>\n",
       "      <td>42753500.00</td>\n",
       "      <td>75661200.00</td>\n",
       "      <td>13900.00</td>\n",
       "      <td>59219100.00</td>\n",
       "      <td>NaN</td>\n",
       "    </tr>\n",
       "    <tr>\n",
       "      <th>genre</th>\n",
       "      <td>Romance</td>\n",
       "      <td>Sci-Fi Action</td>\n",
       "      <td>Documentary</td>\n",
       "      <td>Drama</td>\n",
       "      <td>Comedy</td>\n",
       "    </tr>\n",
       "    <tr>\n",
       "      <th>mpaa_rating</th>\n",
       "      <td>PG</td>\n",
       "      <td>R</td>\n",
       "      <td>Unrated</td>\n",
       "      <td>PG</td>\n",
       "      <td>R</td>\n",
       "    </tr>\n",
       "    <tr>\n",
       "      <th>number_of_theaters</th>\n",
       "      <td>NaN</td>\n",
       "      <td>1925.00</td>\n",
       "      <td>3.00</td>\n",
       "      <td>NaN</td>\n",
       "      <td>NaN</td>\n",
       "    </tr>\n",
       "    <tr>\n",
       "      <th>production_budget_adj</th>\n",
       "      <td>NaN</td>\n",
       "      <td>NaN</td>\n",
       "      <td>NaN</td>\n",
       "      <td>NaN</td>\n",
       "      <td>NaN</td>\n",
       "    </tr>\n",
       "    <tr>\n",
       "      <th>release_date</th>\n",
       "      <td>1978-01-01 00:00:00</td>\n",
       "      <td>1992-07-10 00:00:00</td>\n",
       "      <td>2016-10-07 00:00:00</td>\n",
       "      <td>1981-09-18 00:00:00</td>\n",
       "      <td>2014-01-17 00:00:00</td>\n",
       "    </tr>\n",
       "    <tr>\n",
       "      <th>runtime</th>\n",
       "      <td>100.00</td>\n",
       "      <td>102.00</td>\n",
       "      <td>85.00</td>\n",
       "      <td>129.00</td>\n",
       "      <td>93.00</td>\n",
       "    </tr>\n",
       "  </tbody>\n",
       "</table>\n",
       "</div>"
      ],
      "text/plain": [
       "                                                            0  \\\n",
       "index                  The Other Side of the Mountain Part II   \n",
       "close_date                                                NaT   \n",
       "days_in_theater                                           NaN   \n",
       "domestic_gross_adj                                42753500.00   \n",
       "genre                                                 Romance   \n",
       "mpaa_rating                                                PG   \n",
       "number_of_theaters                                        NaN   \n",
       "production_budget_adj                                     NaN   \n",
       "release_date                              1978-01-01 00:00:00   \n",
       "runtime                                                100.00   \n",
       "\n",
       "                                         1                    2  \\\n",
       "index                    Universal Soldier              Newtown   \n",
       "close_date                             NaT                  NaT   \n",
       "days_in_theater                        NaN                14.00   \n",
       "domestic_gross_adj             75661200.00             13900.00   \n",
       "genre                        Sci-Fi Action          Documentary   \n",
       "mpaa_rating                              R              Unrated   \n",
       "number_of_theaters                 1925.00                 3.00   \n",
       "production_budget_adj                  NaN                  NaN   \n",
       "release_date           1992-07-10 00:00:00  2016-10-07 00:00:00   \n",
       "runtime                             102.00                85.00   \n",
       "\n",
       "                                         3                    4  \n",
       "index                       Mommie Dearest               G.B.F.  \n",
       "close_date                             NaT                  NaT  \n",
       "days_in_theater                        NaN                  NaN  \n",
       "domestic_gross_adj             59219100.00                  NaN  \n",
       "genre                                Drama               Comedy  \n",
       "mpaa_rating                             PG                    R  \n",
       "number_of_theaters                     NaN                  NaN  \n",
       "production_budget_adj                  NaN                  NaN  \n",
       "release_date           1981-09-18 00:00:00  2014-01-17 00:00:00  \n",
       "runtime                             129.00                93.00  "
      ]
     },
     "execution_count": 5,
     "metadata": {},
     "output_type": "execute_result"
    }
   ],
   "source": [
    "df_domestic_pred.head().T"
   ]
  },
  {
   "cell_type": "code",
   "execution_count": 6,
   "metadata": {},
   "outputs": [
    {
     "data": {
      "image/png": "[encoded data removed]",
      "text/plain": [
       "<matplotlib.figure.Figure at 0x113061fd0>"
      ]
     },
     "metadata": {},
     "output_type": "display_data"
    }
   ],
   "source": [
    "sns.heatmap(df_domestic_pred.corr());"
   ]
  },
  {
   "cell_type": "code",
   "execution_count": 7,
   "metadata": {},
   "outputs": [
    {
     "data": {
      "image/png": "[encoded data removed]",
      "text/plain": [
       "<matplotlib.figure.Figure at 0x11bfc1dd8>"
      ]
     },
     "metadata": {},
     "output_type": "display_data"
    }
   ],
   "source": [
    "# need to do transformation on all of this\n",
    "df_domestic_pred.hist(figsize=(10,6));"
   ]
  },
  {
   "cell_type": "code",
   "execution_count": 8,
   "metadata": {},
   "outputs": [
    {
     "data": {
      "text/plain": [
       "<matplotlib.axes._subplots.AxesSubplot at 0x11c0b52e8>"
      ]
     },
     "execution_count": 8,
     "metadata": {},
     "output_type": "execute_result"
    },
    {
     "data": {
      "image/png": "[encoded data removed]",
      "text/plain": [
       "<matplotlib.figure.Figure at 0x11c576160>"
      ]
     },
     "metadata": {},
     "output_type": "display_data"
    }
   ],
   "source": [
    "df_domestic_pred['production_budget_log'] = df_domestic_pred['production_budget_adj'].apply(np.sqrt)\n",
    "df_domestic_pred.drop(['production_budget_adj'], 1)\n",
    "df_domestic_pred['production_budget_log'].hist()"
   ]
  },
  {
   "cell_type": "code",
   "execution_count": 9,
   "metadata": {},
   "outputs": [
    {
     "data": {
      "text/plain": [
       "<matplotlib.axes._subplots.AxesSubplot at 0x11c5974a8>"
      ]
     },
     "execution_count": 9,
     "metadata": {},
     "output_type": "execute_result"
    },
    {
     "data": {
      "image/png": "[encoded data removed]",
      "text/plain": [
       "<matplotlib.figure.Figure at 0x11c0f07b8>"
      ]
     },
     "metadata": {},
     "output_type": "display_data"
    }
   ],
   "source": [
    "df_domestic_pred['days_in_theater_log'] = df_domestic_pred['days_in_theater'].apply(np.log)\n",
    "df_domestic_pred.drop(['days_in_theater'], 1)\n",
    "df_domestic_pred['days_in_theater_log'].hist()"
   ]
  },
  {
   "cell_type": "code",
   "execution_count": 10,
   "metadata": {},
   "outputs": [
    {
     "data": {
      "image/png": "[encoded data removed]",
      "text/plain": [
       "<matplotlib.figure.Figure at 0x11c805a20>"
      ]
     },
     "metadata": {},
     "output_type": "display_data"
    }
   ],
   "source": [
    "# df_domestic_pred['runtime'].apply(np.log).hist()\n",
    "df_domestic_pred['runtime_log'] = df_domestic_pred['runtime'].apply(np.log)\n",
    "df_domestic_pred.drop(['runtime'], 1)\n",
    "df_domestic_pred['runtime_log'].hist();"
   ]
  },
  {
   "cell_type": "code",
   "execution_count": 11,
   "metadata": {
    "collapsed": true
   },
   "outputs": [],
   "source": [
    "# choose the predicted columns\n",
    "df_domestic_pred = df_domestic_pred[['domestic_gross_adj', 'production_budget_log', 'runtime_log', 'days_in_theater_log', 'number_of_theaters']]"
   ]
  },
  {
   "cell_type": "code",
   "execution_count": 12,
   "metadata": {},
   "outputs": [],
   "source": [
    "df_domestic_pred = df_domestic_pred.dropna(subset=['domestic_gross_adj', 'production_budget_log', \n",
    "                                                   'runtime_log', 'days_in_theater_log', 'number_of_theaters'])"
   ]
  },
  {
   "cell_type": "code",
   "execution_count": 13,
   "metadata": {},
   "outputs": [
    {
     "data": {
      "text/html": [
       "<div>\n",
       "<table border=\"1\" class=\"dataframe\">\n",
       "  <thead>\n",
       "    <tr style=\"text-align: right;\">\n",
       "      <th></th>\n",
       "      <th>domestic_gross_adj</th>\n",
       "      <th>production_budget_log</th>\n",
       "      <th>runtime_log</th>\n",
       "      <th>days_in_theater_log</th>\n",
       "      <th>number_of_theaters</th>\n",
       "    </tr>\n",
       "  </thead>\n",
       "  <tbody>\n",
       "    <tr>\n",
       "      <th>10</th>\n",
       "      <td>195732200.00</td>\n",
       "      <td>2236.07</td>\n",
       "      <td>4.70</td>\n",
       "      <td>4.34</td>\n",
       "      <td>3807.00</td>\n",
       "    </tr>\n",
       "    <tr>\n",
       "      <th>11</th>\n",
       "      <td>55815700.00</td>\n",
       "      <td>4472.14</td>\n",
       "      <td>4.70</td>\n",
       "      <td>4.34</td>\n",
       "      <td>2762.00</td>\n",
       "    </tr>\n",
       "    <tr>\n",
       "      <th>18</th>\n",
       "      <td>18664000.00</td>\n",
       "      <td>7745.97</td>\n",
       "      <td>4.62</td>\n",
       "      <td>4.25</td>\n",
       "      <td>2215.00</td>\n",
       "    </tr>\n",
       "    <tr>\n",
       "      <th>25</th>\n",
       "      <td>176014600.00</td>\n",
       "      <td>6557.44</td>\n",
       "      <td>4.76</td>\n",
       "      <td>5.12</td>\n",
       "      <td>3184.00</td>\n",
       "    </tr>\n",
       "    <tr>\n",
       "      <th>32</th>\n",
       "      <td>352178200.00</td>\n",
       "      <td>8602.33</td>\n",
       "      <td>4.51</td>\n",
       "      <td>5.08</td>\n",
       "      <td>4311.00</td>\n",
       "    </tr>\n",
       "  </tbody>\n",
       "</table>\n",
       "</div>"
      ],
      "text/plain": [
       "    domestic_gross_adj  production_budget_log  runtime_log  \\\n",
       "10        195732200.00                2236.07         4.70   \n",
       "11         55815700.00                4472.14         4.70   \n",
       "18         18664000.00                7745.97         4.62   \n",
       "25        176014600.00                6557.44         4.76   \n",
       "32        352178200.00                8602.33         4.51   \n",
       "\n",
       "    days_in_theater_log  number_of_theaters  \n",
       "10                 4.34             3807.00  \n",
       "11                 4.34             2762.00  \n",
       "18                 4.25             2215.00  \n",
       "25                 5.12             3184.00  \n",
       "32                 5.08             4311.00  "
      ]
     },
     "execution_count": 13,
     "metadata": {},
     "output_type": "execute_result"
    }
   ],
   "source": [
    "df_domestic_pred.head()"
   ]
  },
  {
   "cell_type": "code",
   "execution_count": 14,
   "metadata": {},
   "outputs": [
    {
     "data": {
      "text/plain": [
       "0.50369298053345657"
      ]
     },
     "execution_count": 14,
     "metadata": {},
     "output_type": "execute_result"
    }
   ],
   "source": [
    "# Create an empty model\n",
    "lr = LinearRegression()\n",
    "\n",
    "# Choose the predictor variables, here all but the first which is the response variable\n",
    "# This model is analogous to the Y ~ X1 + X2 + X3 + X4 + X5 + X6 model\n",
    "X = df_domestic_pred.iloc[:, 1:]\n",
    "\n",
    "# Choose the response variable(s)\n",
    "y = df_domestic_pred.iloc[:, 0]\n",
    "\n",
    "# Fit the model to the full dataset\n",
    "lr.fit(X, y)\n",
    "\n",
    "# Print out the R^2 for the model against the full dataset\n",
    "lr.score(X,y)"
   ]
  },
  {
   "cell_type": "code",
   "execution_count": 15,
   "metadata": {},
   "outputs": [],
   "source": [
    "plt.style.use('fivethirtyeight')\n",
    "\n",
    "size = X.shape[0]\n",
    "\n",
    "_1 = np.linspace(X.iloc[:,0].min(), X.iloc[:,0].max() + 1, size)\n",
    "_2 = np.linspace(X.iloc[:,1].min(), X.iloc[:,1].max() + 1, size)\n",
    "_3 = np.linspace(X.iloc[:,2].min(), X.iloc[:,2].max() + 1, size)\n",
    "_4 = np.linspace(X.iloc[:,3].min(), X.iloc[:,3].max() + 1, size)\n",
    "\n",
    "x_plot = np.matrix([_1,_2,_3,_4]).T"
   ]
  },
  {
   "cell_type": "code",
   "execution_count": 16,
   "metadata": {},
   "outputs": [
    {
     "data": {
      "text/plain": [
       "array([ -2.37487602e+08,  -2.37001060e+08,  -2.36514518e+08, ...,\n",
       "         4.74322848e+08,   4.74809389e+08,   4.75295931e+08])"
      ]
     },
     "execution_count": 16,
     "metadata": {},
     "output_type": "execute_result"
    }
   ],
   "source": [
    "lr.predict(x_plot)"
   ]
  },
  {
   "cell_type": "code",
   "execution_count": 17,
   "metadata": {},
   "outputs": [
    {
     "data": {
      "text/plain": [
       "(1466, 1)"
      ]
     },
     "execution_count": 17,
     "metadata": {},
     "output_type": "execute_result"
    }
   ],
   "source": [
    "lr.predict(x_plot).shape\n",
    "x_plot.T[0].T.shape"
   ]
  },
  {
   "cell_type": "code",
   "execution_count": 20,
   "metadata": {},
   "outputs": [
    {
     "data": {
      "image/png": "[encoded data removed]",
      "text/plain": [
       "<matplotlib.figure.Figure at 0x11c384470>"
      ]
     },
     "metadata": {},
     "output_type": "display_data"
    }
   ],
   "source": [
    "plt.scatter( df_domestic_pred['production_budget_log'], df_domestic_pred['domestic_gross_adj'], marker='.' )\n",
    "plt.plot( x_plot.T[0].T, lr.predict(x_plot), linewidth=2, color='k' )\n",
    "plt.yticks( np.arange(0,1000000000,100000000) );"
   ]
  },
  {
   "cell_type": "code",
   "execution_count": null,
   "metadata": {},
   "outputs": [],
   "source": [
    "np.matrix([_1,_2,_3,_4]).T.shape"
   ]
  },
  {
   "cell_type": "code",
   "execution_count": null,
   "metadata": {},
   "outputs": [],
   "source": [
    "lr.predict(x_plot).shape"
   ]
  },
  {
   "cell_type": "code",
   "execution_count": null,
   "metadata": {},
   "outputs": [],
   "source": [
    "sns.lmplot('production_budget_log','domestic_gross_adj',\n",
    "            data=df_domestic_pred[['domestic_gross_adj', 'production_budget_log']]);"
   ]
  }
 ],
 "metadata": {
  "kernelspec": {
   "display_name": "Python 3",
   "language": "python",
   "name": "python3"
  },
  "language_info": {
   "codemirror_mode": {
    "name": "ipython",
    "version": 3
   },
   "file_extension": ".py",
   "mimetype": "text/x-python",
   "name": "python",
   "nbconvert_exporter": "python",
   "pygments_lexer": "ipython3",
   "version": "3.6.1"
  }
 },
 "nbformat": 4,
 "nbformat_minor": 2
}
