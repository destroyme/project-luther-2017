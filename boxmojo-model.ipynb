{
 "cells": [
  {
   "cell_type": "code",
   "execution_count": 1,
   "metadata": {
    "collapsed": true
   },
   "outputs": [],
   "source": [
    "# Modeling\n",
    "from sklearn.linear_model import LinearRegression\n",
    "from sklearn.linear_model import Lasso\n",
    "from sklearn.linear_model import LassoCV\n",
    "from sklearn.linear_model import Ridge\n",
    "from sklearn.linear_model import RidgeCV\n",
    "from sklearn.linear_model import ElasticNet\n",
    "from sklearn.linear_model import ElasticNetCV\n",
    "\n",
    "# Model Selection, Metrics, and Preprocessing\n",
    "from sklearn.model_selection import train_test_split\n",
    "from sklearn.model_selection import KFold\n",
    "from sklearn.metrics import mean_squared_error\n",
    "from sklearn import preprocessing\n",
    "from sklearn.preprocessing import PolynomialFeatures\n",
    "from sklearn.pipeline import make_pipeline\n",
    "\n",
    "# Data wrangling\n",
    "import pandas as pd\n",
    "import numpy as np\n",
    "import re\n",
    "\n",
    "# Time\n",
    "import time\n",
    "import datetime\n",
    "from datetime import datetime as dt\n",
    "import dateutil.parser\n",
    "\n",
    "# Plotting\n",
    "import seaborn as sns\n",
    "from seaborn import plt\n",
    "from mpl_toolkits.mplot3d import Axes3D\n",
    "import matplotlib.pyplot as pplt\n",
    "\n",
    "# URL Grabbing\n",
    "import requests\n",
    "\n",
    "# Scraping / Searching\n",
    "from bs4 import BeautifulSoup\n",
    "import re\n",
    "\n",
    "# Misc\n",
    "import pickle\n",
    "from pprint import pprint\n",
    "\n",
    "# %matplotlib inline\n",
    "plt.style.use('fivethirtyeight')\n",
    "sns.set_context('poster')\n",
    "pd.set_option('display.float_format', lambda x: '%.2f' % x) # reduces the amount of decimals when printing the df's"
   ]
  },
  {
   "cell_type": "code",
   "execution_count": 2,
   "metadata": {
    "collapsed": true
   },
   "outputs": [],
   "source": [
    "# with open(\"movies.pkl\", 'rb') as picklefile: \n",
    "#     df = pickle.load(picklefile)\n",
    "    \n",
    "with open(\"crew.pkl\", 'rb') as picklefile: \n",
    "    df = pickle.load(picklefile)"
   ]
  },
  {
   "cell_type": "code",
   "execution_count": 3,
   "metadata": {},
   "outputs": [
    {
     "data": {
      "text/html": [
       "<div>\n",
       "<table border=\"1\" class=\"dataframe\">\n",
       "  <thead>\n",
       "    <tr style=\"text-align: right;\">\n",
       "      <th></th>\n",
       "      <th>0</th>\n",
       "      <th>1</th>\n",
       "      <th>2</th>\n",
       "      <th>3</th>\n",
       "      <th>4</th>\n",
       "    </tr>\n",
       "  </thead>\n",
       "  <tbody>\n",
       "    <tr>\n",
       "      <th>index</th>\n",
       "      <td>The Other Side of the Mountain Part II</td>\n",
       "      <td>Universal Soldier</td>\n",
       "      <td>Newtown</td>\n",
       "      <td>Mommie Dearest</td>\n",
       "      <td>G.B.F.</td>\n",
       "    </tr>\n",
       "    <tr>\n",
       "      <th>actors</th>\n",
       "      <td>NaN</td>\n",
       "      <td>[Jean-Claude Van Damme, Dolph Lundgren]</td>\n",
       "      <td>NaN</td>\n",
       "      <td>NaN</td>\n",
       "      <td>[Natasha Lyonne, Megan Mullally]</td>\n",
       "    </tr>\n",
       "    <tr>\n",
       "      <th>close_date</th>\n",
       "      <td>NaT</td>\n",
       "      <td>NaT</td>\n",
       "      <td>NaT</td>\n",
       "      <td>NaT</td>\n",
       "      <td>NaT</td>\n",
       "    </tr>\n",
       "    <tr>\n",
       "      <th>composers</th>\n",
       "      <td>NaN</td>\n",
       "      <td>[Tim Simonec]</td>\n",
       "      <td>NaN</td>\n",
       "      <td>NaN</td>\n",
       "      <td>NaN</td>\n",
       "    </tr>\n",
       "    <tr>\n",
       "      <th>days_in_theater</th>\n",
       "      <td>NaN</td>\n",
       "      <td>NaN</td>\n",
       "      <td>14.00</td>\n",
       "      <td>NaN</td>\n",
       "      <td>NaN</td>\n",
       "    </tr>\n",
       "    <tr>\n",
       "      <th>directors</th>\n",
       "      <td>NaN</td>\n",
       "      <td>[Roland Emmerich]</td>\n",
       "      <td>NaN</td>\n",
       "      <td>NaN</td>\n",
       "      <td>NaN</td>\n",
       "    </tr>\n",
       "    <tr>\n",
       "      <th>domestic_gross_adj</th>\n",
       "      <td>42753500.00</td>\n",
       "      <td>75661200.00</td>\n",
       "      <td>13900.00</td>\n",
       "      <td>59219100.00</td>\n",
       "      <td>NaN</td>\n",
       "    </tr>\n",
       "    <tr>\n",
       "      <th>foreign_unadj</th>\n",
       "      <td>NaN</td>\n",
       "      <td>NaN</td>\n",
       "      <td>NaN</td>\n",
       "      <td>NaN</td>\n",
       "      <td>NaN</td>\n",
       "    </tr>\n",
       "    <tr>\n",
       "      <th>genre</th>\n",
       "      <td>Romance</td>\n",
       "      <td>Sci-Fi Action</td>\n",
       "      <td>Documentary</td>\n",
       "      <td>Drama</td>\n",
       "      <td>Comedy</td>\n",
       "    </tr>\n",
       "    <tr>\n",
       "      <th>mpaa_rating</th>\n",
       "      <td>PG</td>\n",
       "      <td>R</td>\n",
       "      <td>Unrated</td>\n",
       "      <td>PG</td>\n",
       "      <td>R</td>\n",
       "    </tr>\n",
       "    <tr>\n",
       "      <th>number_of_theaters</th>\n",
       "      <td>NaN</td>\n",
       "      <td>1925.00</td>\n",
       "      <td>3.00</td>\n",
       "      <td>NaN</td>\n",
       "      <td>NaN</td>\n",
       "    </tr>\n",
       "    <tr>\n",
       "      <th>opening_weekend_adj</th>\n",
       "      <td>NaN</td>\n",
       "      <td>20962400.00</td>\n",
       "      <td>6700.00</td>\n",
       "      <td>NaN</td>\n",
       "      <td>NaN</td>\n",
       "    </tr>\n",
       "    <tr>\n",
       "      <th>producers</th>\n",
       "      <td>NaN</td>\n",
       "      <td>NaN</td>\n",
       "      <td>NaN</td>\n",
       "      <td>NaN</td>\n",
       "      <td>NaN</td>\n",
       "    </tr>\n",
       "    <tr>\n",
       "      <th>production_budget_adj</th>\n",
       "      <td>NaN</td>\n",
       "      <td>NaN</td>\n",
       "      <td>NaN</td>\n",
       "      <td>NaN</td>\n",
       "      <td>NaN</td>\n",
       "    </tr>\n",
       "    <tr>\n",
       "      <th>release_date</th>\n",
       "      <td>1978-01-01 00:00:00</td>\n",
       "      <td>1992-07-10 00:00:00</td>\n",
       "      <td>2016-10-07 00:00:00</td>\n",
       "      <td>1981-09-18 00:00:00</td>\n",
       "      <td>2014-01-17 00:00:00</td>\n",
       "    </tr>\n",
       "    <tr>\n",
       "      <th>runtime</th>\n",
       "      <td>100.00</td>\n",
       "      <td>102.00</td>\n",
       "      <td>85.00</td>\n",
       "      <td>129.00</td>\n",
       "      <td>93.00</td>\n",
       "    </tr>\n",
       "    <tr>\n",
       "      <th>worldwide_gross_unadj</th>\n",
       "      <td>NaN</td>\n",
       "      <td>NaN</td>\n",
       "      <td>NaN</td>\n",
       "      <td>NaN</td>\n",
       "      <td>NaN</td>\n",
       "    </tr>\n",
       "    <tr>\n",
       "      <th>writers</th>\n",
       "      <td>NaN</td>\n",
       "      <td>[Dean Devlin]</td>\n",
       "      <td>NaN</td>\n",
       "      <td>NaN</td>\n",
       "      <td>NaN</td>\n",
       "    </tr>\n",
       "    <tr>\n",
       "      <th>made_men</th>\n",
       "      <td>0</td>\n",
       "      <td>0</td>\n",
       "      <td>0</td>\n",
       "      <td>0</td>\n",
       "      <td>2</td>\n",
       "    </tr>\n",
       "  </tbody>\n",
       "</table>\n",
       "</div>"
      ],
      "text/plain": [
       "                                                            0  \\\n",
       "index                  The Other Side of the Mountain Part II   \n",
       "actors                                                    NaN   \n",
       "close_date                                                NaT   \n",
       "composers                                                 NaN   \n",
       "days_in_theater                                           NaN   \n",
       "directors                                                 NaN   \n",
       "domestic_gross_adj                                42753500.00   \n",
       "foreign_unadj                                             NaN   \n",
       "genre                                                 Romance   \n",
       "mpaa_rating                                                PG   \n",
       "number_of_theaters                                        NaN   \n",
       "opening_weekend_adj                                       NaN   \n",
       "producers                                                 NaN   \n",
       "production_budget_adj                                     NaN   \n",
       "release_date                              1978-01-01 00:00:00   \n",
       "runtime                                                100.00   \n",
       "worldwide_gross_unadj                                     NaN   \n",
       "writers                                                   NaN   \n",
       "made_men                                                    0   \n",
       "\n",
       "                                                             1  \\\n",
       "index                                        Universal Soldier   \n",
       "actors                 [Jean-Claude Van Damme, Dolph Lundgren]   \n",
       "close_date                                                 NaT   \n",
       "composers                                        [Tim Simonec]   \n",
       "days_in_theater                                            NaN   \n",
       "directors                                    [Roland Emmerich]   \n",
       "domestic_gross_adj                                 75661200.00   \n",
       "foreign_unadj                                              NaN   \n",
       "genre                                            Sci-Fi Action   \n",
       "mpaa_rating                                                  R   \n",
       "number_of_theaters                                     1925.00   \n",
       "opening_weekend_adj                                20962400.00   \n",
       "producers                                                  NaN   \n",
       "production_budget_adj                                      NaN   \n",
       "release_date                               1992-07-10 00:00:00   \n",
       "runtime                                                 102.00   \n",
       "worldwide_gross_unadj                                      NaN   \n",
       "writers                                          [Dean Devlin]   \n",
       "made_men                                                     0   \n",
       "\n",
       "                                         2                    3  \\\n",
       "index                              Newtown       Mommie Dearest   \n",
       "actors                                 NaN                  NaN   \n",
       "close_date                             NaT                  NaT   \n",
       "composers                              NaN                  NaN   \n",
       "days_in_theater                      14.00                  NaN   \n",
       "directors                              NaN                  NaN   \n",
       "domestic_gross_adj                13900.00          59219100.00   \n",
       "foreign_unadj                          NaN                  NaN   \n",
       "genre                          Documentary                Drama   \n",
       "mpaa_rating                        Unrated                   PG   \n",
       "number_of_theaters                    3.00                  NaN   \n",
       "opening_weekend_adj                6700.00                  NaN   \n",
       "producers                              NaN                  NaN   \n",
       "production_budget_adj                  NaN                  NaN   \n",
       "release_date           2016-10-07 00:00:00  1981-09-18 00:00:00   \n",
       "runtime                              85.00               129.00   \n",
       "worldwide_gross_unadj                  NaN                  NaN   \n",
       "writers                                NaN                  NaN   \n",
       "made_men                                 0                    0   \n",
       "\n",
       "                                                      4  \n",
       "index                                            G.B.F.  \n",
       "actors                 [Natasha Lyonne, Megan Mullally]  \n",
       "close_date                                          NaT  \n",
       "composers                                           NaN  \n",
       "days_in_theater                                     NaN  \n",
       "directors                                           NaN  \n",
       "domestic_gross_adj                                  NaN  \n",
       "foreign_unadj                                       NaN  \n",
       "genre                                            Comedy  \n",
       "mpaa_rating                                           R  \n",
       "number_of_theaters                                  NaN  \n",
       "opening_weekend_adj                                 NaN  \n",
       "producers                                           NaN  \n",
       "production_budget_adj                               NaN  \n",
       "release_date                        2014-01-17 00:00:00  \n",
       "runtime                                           93.00  \n",
       "worldwide_gross_unadj                               NaN  \n",
       "writers                                             NaN  \n",
       "made_men                                              2  "
      ]
     },
     "execution_count": 3,
     "metadata": {},
     "output_type": "execute_result"
    }
   ],
   "source": [
    "# take a peek into the data\n",
    "df.head().T"
   ]
  },
  {
   "cell_type": "markdown",
   "metadata": {},
   "source": [
    "# Feature Selection"
   ]
  },
  {
   "cell_type": "code",
   "execution_count": 4,
   "metadata": {
    "collapsed": true
   },
   "outputs": [],
   "source": [
    "# adding in the months of release\n",
    "df['release_month'] = df.release_date.dt.month"
   ]
  },
  {
   "cell_type": "code",
   "execution_count": 5,
   "metadata": {
    "collapsed": true
   },
   "outputs": [],
   "source": [
    "# dropping all the multidimensional data, that will be engineered later`\n",
    "df_domestic_pred = df.drop(['actors', 'composers', 'directors', 'producers', 'writers'], 1)\n",
    "\n",
    "# drop all the unadjusted data\n",
    "df_domestic_pred = df_domestic_pred.drop(['foreign_unadj', 'worldwide_gross_unadj'], 1)\n",
    "\n",
    "# dropping all edge cases\n",
    "df_domestic_pred = df_domestic_pred[(df_domestic_pred.domestic_gross_adj > 10000) & # drop all with significantly low grosses\n",
    "                                    (df_domestic_pred.mpaa_rating != 'Unrated') & # kills all unrated\n",
    "                                    (df_domestic_pred.runtime >= 40) & # drop all movies less than feature length\n",
    "                                    (df_domestic_pred.release_date.dt.year >= 1990)] # remove all unrated\n",
    "\n",
    "# dropping highly correlated data (and intertwined)\n",
    "df_domestic_pred = df_domestic_pred.drop(['opening_weekend_adj'], 1)"
   ]
  },
  {
   "cell_type": "code",
   "execution_count": 6,
   "metadata": {},
   "outputs": [
    {
     "name": "stdout",
     "output_type": "stream",
     "text": [
      "Number of rows: 5496\n"
     ]
    },
    {
     "data": {
      "text/html": [
       "<div>\n",
       "<table border=\"1\" class=\"dataframe\">\n",
       "  <thead>\n",
       "    <tr style=\"text-align: right;\">\n",
       "      <th></th>\n",
       "      <th>1</th>\n",
       "      <th>5</th>\n",
       "      <th>6</th>\n",
       "      <th>7</th>\n",
       "      <th>8</th>\n",
       "    </tr>\n",
       "  </thead>\n",
       "  <tbody>\n",
       "    <tr>\n",
       "      <th>index</th>\n",
       "      <td>Universal Soldier</td>\n",
       "      <td>Saw IV</td>\n",
       "      <td>Better Than Chocolate</td>\n",
       "      <td>The Jackal</td>\n",
       "      <td>Murderball</td>\n",
       "    </tr>\n",
       "    <tr>\n",
       "      <th>close_date</th>\n",
       "      <td>NaT</td>\n",
       "      <td>2007-12-13 00:00:00</td>\n",
       "      <td>NaT</td>\n",
       "      <td>NaT</td>\n",
       "      <td>2005-10-06 00:00:00</td>\n",
       "    </tr>\n",
       "    <tr>\n",
       "      <th>days_in_theater</th>\n",
       "      <td>NaN</td>\n",
       "      <td>49.00</td>\n",
       "      <td>NaN</td>\n",
       "      <td>NaN</td>\n",
       "      <td>91.00</td>\n",
       "    </tr>\n",
       "    <tr>\n",
       "      <th>domestic_gross_adj</th>\n",
       "      <td>75661200.00</td>\n",
       "      <td>79585200.00</td>\n",
       "      <td>3431700.00</td>\n",
       "      <td>103517800.00</td>\n",
       "      <td>2066200.00</td>\n",
       "    </tr>\n",
       "    <tr>\n",
       "      <th>genre</th>\n",
       "      <td>Sci-Fi Action</td>\n",
       "      <td>Horror</td>\n",
       "      <td>Romantic Comedy</td>\n",
       "      <td>Action Thriller</td>\n",
       "      <td>Documentary</td>\n",
       "    </tr>\n",
       "    <tr>\n",
       "      <th>mpaa_rating</th>\n",
       "      <td>R</td>\n",
       "      <td>R</td>\n",
       "      <td>R</td>\n",
       "      <td>R</td>\n",
       "      <td>R</td>\n",
       "    </tr>\n",
       "    <tr>\n",
       "      <th>number_of_theaters</th>\n",
       "      <td>1925.00</td>\n",
       "      <td>3183.00</td>\n",
       "      <td>130.00</td>\n",
       "      <td>2309.00</td>\n",
       "      <td>97.00</td>\n",
       "    </tr>\n",
       "    <tr>\n",
       "      <th>production_budget_adj</th>\n",
       "      <td>NaN</td>\n",
       "      <td>NaN</td>\n",
       "      <td>NaN</td>\n",
       "      <td>60000000.00</td>\n",
       "      <td>NaN</td>\n",
       "    </tr>\n",
       "    <tr>\n",
       "      <th>release_date</th>\n",
       "      <td>1992-07-10 00:00:00</td>\n",
       "      <td>2007-10-26 00:00:00</td>\n",
       "      <td>1999-08-13 00:00:00</td>\n",
       "      <td>1997-11-14 00:00:00</td>\n",
       "      <td>2005-07-08 00:00:00</td>\n",
       "    </tr>\n",
       "    <tr>\n",
       "      <th>runtime</th>\n",
       "      <td>102.00</td>\n",
       "      <td>108.00</td>\n",
       "      <td>102.00</td>\n",
       "      <td>125.00</td>\n",
       "      <td>88.00</td>\n",
       "    </tr>\n",
       "    <tr>\n",
       "      <th>made_men</th>\n",
       "      <td>0</td>\n",
       "      <td>5</td>\n",
       "      <td>0</td>\n",
       "      <td>5</td>\n",
       "      <td>0</td>\n",
       "    </tr>\n",
       "    <tr>\n",
       "      <th>release_month</th>\n",
       "      <td>7.00</td>\n",
       "      <td>10.00</td>\n",
       "      <td>8.00</td>\n",
       "      <td>11.00</td>\n",
       "      <td>7.00</td>\n",
       "    </tr>\n",
       "  </tbody>\n",
       "</table>\n",
       "</div>"
      ],
      "text/plain": [
       "                                         1                    5  \\\n",
       "index                    Universal Soldier               Saw IV   \n",
       "close_date                             NaT  2007-12-13 00:00:00   \n",
       "days_in_theater                        NaN                49.00   \n",
       "domestic_gross_adj             75661200.00          79585200.00   \n",
       "genre                        Sci-Fi Action               Horror   \n",
       "mpaa_rating                              R                    R   \n",
       "number_of_theaters                 1925.00              3183.00   \n",
       "production_budget_adj                  NaN                  NaN   \n",
       "release_date           1992-07-10 00:00:00  2007-10-26 00:00:00   \n",
       "runtime                             102.00               108.00   \n",
       "made_men                                 0                    5   \n",
       "release_month                         7.00                10.00   \n",
       "\n",
       "                                           6                    7  \\\n",
       "index                  Better Than Chocolate           The Jackal   \n",
       "close_date                               NaT                  NaT   \n",
       "days_in_theater                          NaN                  NaN   \n",
       "domestic_gross_adj                3431700.00         103517800.00   \n",
       "genre                        Romantic Comedy      Action Thriller   \n",
       "mpaa_rating                                R                    R   \n",
       "number_of_theaters                    130.00              2309.00   \n",
       "production_budget_adj                    NaN          60000000.00   \n",
       "release_date             1999-08-13 00:00:00  1997-11-14 00:00:00   \n",
       "runtime                               102.00               125.00   \n",
       "made_men                                   0                    5   \n",
       "release_month                           8.00                11.00   \n",
       "\n",
       "                                         8  \n",
       "index                           Murderball  \n",
       "close_date             2005-10-06 00:00:00  \n",
       "days_in_theater                      91.00  \n",
       "domestic_gross_adj              2066200.00  \n",
       "genre                          Documentary  \n",
       "mpaa_rating                              R  \n",
       "number_of_theaters                   97.00  \n",
       "production_budget_adj                  NaN  \n",
       "release_date           2005-07-08 00:00:00  \n",
       "runtime                              88.00  \n",
       "made_men                                 0  \n",
       "release_month                         7.00  "
      ]
     },
     "execution_count": 6,
     "metadata": {},
     "output_type": "execute_result"
    }
   ],
   "source": [
    "print('Number of rows:',len(df_domestic_pred))\n",
    "df_domestic_pred.head().T"
   ]
  },
  {
   "cell_type": "code",
   "execution_count": 7,
   "metadata": {
    "collapsed": true,
    "scrolled": true
   },
   "outputs": [],
   "source": [
    "# %matplotlib inline\n",
    "sns.pairplot(df_domestic_pred.dropna(), size=4);"
   ]
  },
  {
   "cell_type": "code",
   "execution_count": 8,
   "metadata": {
    "collapsed": true
   },
   "outputs": [],
   "source": [
    "# checking the correlations for any intracorrelations\n",
    "sns.set_context('poster')\n",
    "sns.heatmap(df_domestic_pred.corr());"
   ]
  },
  {
   "cell_type": "markdown",
   "metadata": {},
   "source": [
    "# Transformation  \n",
    "  \n",
    "Here we take a stab at transforming all the data into a normal form"
   ]
  },
  {
   "cell_type": "code",
   "execution_count": 9,
   "metadata": {
    "collapsed": true
   },
   "outputs": [],
   "source": [
    "sns.set_context('notebook')"
   ]
  },
  {
   "cell_type": "markdown",
   "metadata": {},
   "source": [
    "### Before Transformation"
   ]
  },
  {
   "cell_type": "code",
   "execution_count": 10,
   "metadata": {
    "collapsed": true
   },
   "outputs": [],
   "source": [
    "# Checking if any values need to be transformed\n",
    "df_domestic_pred.hist(figsize=(10,6));"
   ]
  },
  {
   "cell_type": "markdown",
   "metadata": {},
   "source": [
    "Production Budget (log)"
   ]
  },
  {
   "cell_type": "code",
   "execution_count": 11,
   "metadata": {
    "collapsed": true
   },
   "outputs": [],
   "source": [
    "df_domestic_pred['production_budget_sqrt'] = df_domestic_pred['production_budget_adj'].apply(np.sqrt)\n",
    "df_domestic_pred.drop(['production_budget_adj'], 1);\n",
    "# df_domestic_pred['production_budget_log'].hist();"
   ]
  },
  {
   "cell_type": "markdown",
   "metadata": {},
   "source": [
    "Days In Theater (log)"
   ]
  },
  {
   "cell_type": "code",
   "execution_count": 12,
   "metadata": {
    "collapsed": true
   },
   "outputs": [],
   "source": [
    "df_domestic_pred['days_in_theater_log'] = df_domestic_pred['days_in_theater'].apply(np.log)\n",
    "df_domestic_pred.drop(['days_in_theater'], 1);\n",
    "# df_domestic_pred['days_in_theater_log'].hist();"
   ]
  },
  {
   "cell_type": "markdown",
   "metadata": {},
   "source": [
    "Runtime (log)"
   ]
  },
  {
   "cell_type": "code",
   "execution_count": 13,
   "metadata": {
    "collapsed": true
   },
   "outputs": [],
   "source": [
    "# df_domestic_pred['runtime'].apply(np.log).hist()\n",
    "df_domestic_pred['runtime_log'] = df_domestic_pred['runtime'].apply(np.log)\n",
    "df_domestic_pred.drop(['runtime'], 1);\n",
    "# df_domestic_pred['runtime_log'].hist();"
   ]
  },
  {
   "cell_type": "code",
   "execution_count": 14,
   "metadata": {
    "collapsed": true
   },
   "outputs": [],
   "source": [
    "# df_domestic_pred['made_men_log'] = df_domestic_pred['made_men'].apply(np.log)\n",
    "# df_domestic_pred.drop(['days_in_theater'], 1)\n",
    "# df_domestic_pred['days_in_theater_log'].hist();\n",
    "# df_domestic_pred[df_domestic_pred.made_men == np.nan]\n",
    "# df_domestic_pred['made_men'].hist();"
   ]
  },
  {
   "cell_type": "markdown",
   "metadata": {},
   "source": [
    "#### Cleaning"
   ]
  },
  {
   "cell_type": "code",
   "execution_count": 15,
   "metadata": {
    "collapsed": true
   },
   "outputs": [],
   "source": [
    "# choose the predicted columns\n",
    "df_domestic_pred = df_domestic_pred[['domestic_gross_adj', 'production_budget_sqrt', 'made_men',\n",
    "                                     'runtime_log', 'days_in_theater_log', 'number_of_theaters',\n",
    "                                     'release_month']]"
   ]
  },
  {
   "cell_type": "code",
   "execution_count": 16,
   "metadata": {
    "collapsed": true
   },
   "outputs": [],
   "source": [
    "# kill off any NA \n",
    "df_domestic_pred = df_domestic_pred.dropna()#subset=['domestic_gross_adj', 'production_budget_log', \n",
    "                                            #       'runtime_log', 'days_in_theater_log', 'number_of_theaters'])"
   ]
  },
  {
   "cell_type": "code",
   "execution_count": 17,
   "metadata": {},
   "outputs": [
    {
     "name": "stdout",
     "output_type": "stream",
     "text": [
      "Number of Films after Filtering: 1437\n"
     ]
    },
    {
     "data": {
      "text/html": [
       "<div>\n",
       "<table border=\"1\" class=\"dataframe\">\n",
       "  <thead>\n",
       "    <tr style=\"text-align: right;\">\n",
       "      <th></th>\n",
       "      <th>domestic_gross_adj</th>\n",
       "      <th>production_budget_sqrt</th>\n",
       "      <th>made_men</th>\n",
       "      <th>runtime_log</th>\n",
       "      <th>days_in_theater_log</th>\n",
       "      <th>number_of_theaters</th>\n",
       "      <th>release_month</th>\n",
       "    </tr>\n",
       "  </thead>\n",
       "  <tbody>\n",
       "    <tr>\n",
       "      <th>10</th>\n",
       "      <td>195732200.00</td>\n",
       "      <td>2236.07</td>\n",
       "      <td>14</td>\n",
       "      <td>4.70</td>\n",
       "      <td>4.34</td>\n",
       "      <td>3807.00</td>\n",
       "      <td>8.00</td>\n",
       "    </tr>\n",
       "    <tr>\n",
       "      <th>11</th>\n",
       "      <td>55815700.00</td>\n",
       "      <td>4472.14</td>\n",
       "      <td>2</td>\n",
       "      <td>4.70</td>\n",
       "      <td>4.34</td>\n",
       "      <td>2762.00</td>\n",
       "      <td>6.00</td>\n",
       "    </tr>\n",
       "    <tr>\n",
       "      <th>18</th>\n",
       "      <td>18664000.00</td>\n",
       "      <td>7745.97</td>\n",
       "      <td>9</td>\n",
       "      <td>4.62</td>\n",
       "      <td>4.25</td>\n",
       "      <td>2215.00</td>\n",
       "      <td>11.00</td>\n",
       "    </tr>\n",
       "    <tr>\n",
       "      <th>25</th>\n",
       "      <td>176014600.00</td>\n",
       "      <td>6557.44</td>\n",
       "      <td>7</td>\n",
       "      <td>4.76</td>\n",
       "      <td>5.12</td>\n",
       "      <td>3184.00</td>\n",
       "      <td>6.00</td>\n",
       "    </tr>\n",
       "    <tr>\n",
       "      <th>32</th>\n",
       "      <td>352178200.00</td>\n",
       "      <td>8602.33</td>\n",
       "      <td>11</td>\n",
       "      <td>4.51</td>\n",
       "      <td>5.08</td>\n",
       "      <td>4311.00</td>\n",
       "      <td>7.00</td>\n",
       "    </tr>\n",
       "  </tbody>\n",
       "</table>\n",
       "</div>"
      ],
      "text/plain": [
       "    domestic_gross_adj  production_budget_sqrt  made_men  runtime_log  \\\n",
       "10        195732200.00                 2236.07        14         4.70   \n",
       "11         55815700.00                 4472.14         2         4.70   \n",
       "18         18664000.00                 7745.97         9         4.62   \n",
       "25        176014600.00                 6557.44         7         4.76   \n",
       "32        352178200.00                 8602.33        11         4.51   \n",
       "\n",
       "    days_in_theater_log  number_of_theaters  release_month  \n",
       "10                 4.34             3807.00           8.00  \n",
       "11                 4.34             2762.00           6.00  \n",
       "18                 4.25             2215.00          11.00  \n",
       "25                 5.12             3184.00           6.00  \n",
       "32                 5.08             4311.00           7.00  "
      ]
     },
     "execution_count": 17,
     "metadata": {},
     "output_type": "execute_result"
    }
   ],
   "source": [
    "print('Number of Films after Filtering:',len(df_domestic_pred))\n",
    "df_domestic_pred.head()"
   ]
  },
  {
   "cell_type": "code",
   "execution_count": 19,
   "metadata": {},
   "outputs": [
    {
     "data": {
      "text/plain": [
       "1437"
      ]
     },
     "execution_count": 19,
     "metadata": {},
     "output_type": "execute_result"
    }
   ],
   "source": [
    "len(df_domestic_pred)"
   ]
  },
  {
   "cell_type": "markdown",
   "metadata": {},
   "source": [
    "### After Transformation"
   ]
  },
  {
   "cell_type": "code",
   "execution_count": 20,
   "metadata": {
    "collapsed": true
   },
   "outputs": [],
   "source": [
    "# df_domestic_pred.hist(figsize=(10,6));"
   ]
  },
  {
   "cell_type": "markdown",
   "metadata": {},
   "source": [
    "# Splitting & Preparing the Data\n",
    "\n",
    "Avoiding normalization for now, will be toggled in our models"
   ]
  },
  {
   "cell_type": "code",
   "execution_count": 21,
   "metadata": {
    "collapsed": true
   },
   "outputs": [],
   "source": [
    "# Holding onto the df for any use\n",
    "X_df = df_domestic_pred.iloc[:, 1:]\n",
    "y_df = df_domestic_pred.iloc[:, 0]\n",
    "\n",
    "# Choose the predictor variables, here all but the first which is the response variable\n",
    "# This model is analogous to the Y ~ X1 + X2 + X3 + X4 + X5 + X6 model\n",
    "X = np.array(X_df)\n",
    "\n",
    "# Choose the response variable(s)\n",
    "y = np.array(y_df)"
   ]
  },
  {
   "cell_type": "code",
   "execution_count": 22,
   "metadata": {
    "collapsed": true
   },
   "outputs": [],
   "source": [
    "# train / test splits\n",
    "X_train, X_test, y_train, y_test = train_test_split(X, y)"
   ]
  },
  {
   "cell_type": "code",
   "execution_count": 23,
   "metadata": {},
   "outputs": [
    {
     "name": "stdout",
     "output_type": "stream",
     "text": [
      "shapes:\n",
      "X_train: (1077, 6)\n",
      "X_test : (360, 6)\n",
      "y_train: (1077,)\n",
      "y_test : (360,)\n"
     ]
    }
   ],
   "source": [
    "print('shapes:')\n",
    "print('X_train:',X_train.shape)\n",
    "print('X_test :',X_test.shape)\n",
    "print('y_train:',y_train.shape)\n",
    "print('y_test :',y_test.shape)"
   ]
  },
  {
   "cell_type": "code",
   "execution_count": 24,
   "metadata": {
    "collapsed": true
   },
   "outputs": [],
   "source": [
    "# # first normalize our features\n",
    "# X = preprocessing.normalize(X_train, axis=0)\n",
    "\n",
    "# # turn back in DF\n",
    "# df_domestic_pred_norm = pd.DataFrame(domestic_pred_norm, columns=df_domestic_pred.columns)"
   ]
  },
  {
   "cell_type": "markdown",
   "metadata": {},
   "source": [
    "# Plotting Functions"
   ]
  },
  {
   "cell_type": "code",
   "execution_count": 25,
   "metadata": {
    "collapsed": true
   },
   "outputs": [],
   "source": [
    "def plot_approximation(est, ax, label=None):\n",
    "    \"\"\"Plot the approximation of ``est`` on axis ``ax``. \"\"\"\n",
    "    ax.scatter(X_train[:,0], y_train, s=50)\n",
    "    ax.plot(x_plot, est.predict(x_plot), color='red', label=label)\n",
    "    ax.set_ylim(-10000000, max(y))\n",
    "#     ax.set_xlim(0, max(X[0]))\n",
    "    ax.set_ylabel('y')\n",
    "    ax.set_xlabel('x')\n",
    "    ax.legend(loc='upper right',frameon=True)"
   ]
  },
  {
   "cell_type": "code",
   "execution_count": 26,
   "metadata": {
    "collapsed": true
   },
   "outputs": [],
   "source": [
    "def plot_coefficients(est, ax, label=None, yscale='log'):\n",
    "    \"\"\"A helper function to plot the absolute value of the coefficients on the right-hand column plot\n",
    "    \"\"\"\n",
    "    coef = est.steps[-1][1].coef_.ravel() # i have 0 idea how this works\n",
    "    if yscale == 'log':\n",
    "        ax.semilogy(np.abs(coef), marker='o', label=label)\n",
    "        ax.set_ylim((1e-1, 1e8))\n",
    "    else:\n",
    "        ax.plot(np.abs(coef), marker='o', label=label)\n",
    "    ax.set_ylabel('abs(coefficient)')\n",
    "    ax.set_xlabel('coefficients')\n",
    "    ax.set_xlim((0, 10))\n",
    "    ax.set_ylim(-1000,1e6)"
   ]
  },
  {
   "cell_type": "code",
   "execution_count": 27,
   "metadata": {
    "collapsed": true
   },
   "outputs": [],
   "source": [
    "def plot_residuals(est, features=X_test, col=0, color=sns.color_palette()[0], label=\"Estimator\",_plt=None):\n",
    "    if not _plt:\n",
    "        fig = plt.figure(figsize=(10,10))\n",
    "        ax = plt.axes()\n",
    "        ax.plot(features[:,col], y_test - est.predict(features), \n",
    "                marker='o', color=color, ls='', markersize=7, label=label)\n",
    "        ax.set_xlabel('Production Budget (sqrt)')\n",
    "        ax.set_ylabel('Residuals');\n",
    "        return ax\n",
    "    else:\n",
    "        _plt.plot(features[:,col], y_test - est.predict(features),\n",
    "                  marker='o', color=color, ls='', markersize=7, label=label, alpha=0.7)\n",
    "        return _plt"
   ]
  },
  {
   "cell_type": "code",
   "execution_count": 28,
   "metadata": {
    "collapsed": true
   },
   "outputs": [],
   "source": [
    "def plot_actual_predicted(est, features=X_test, color=sns.color_palette()[0], label=\"Estimator\", _plt=None):\n",
    "    if not _plt:\n",
    "        fig = plt.figure(figsize=(10,10))\n",
    "        ax = plt.axes()\n",
    "        line = np.linspace(y_test.min(), y_test.max(), 360)\n",
    "\n",
    "        ax.plot(y_test, est.predict(features), marker='o', ls='', markersize=7, label=label)\n",
    "        ax.plot(line, line, color=sns.color_palette()[4],zorder=10)\n",
    "\n",
    "        ax.set_xlabel('Actual')\n",
    "        ax.set_ylabel('Predicted');\n",
    "\n",
    "        min_val = min(ax.get_xlim()[0],ax.get_ylim()[0])\n",
    "        max_val = max(ax.get_xlim()[1],ax.get_ylim()[1])\n",
    "        ax.set_xlim(min_val, max_val)\n",
    "        ax.set_ylim(min_val, max_val)\n",
    "\n",
    "        return ax\n",
    "    else:\n",
    "        _plt.plot(y_test, est.predict(features), marker='o', ls='', markersize=7, label=label, alpha=0.7)\n",
    "        return _plt"
   ]
  },
  {
   "cell_type": "code",
   "execution_count": 29,
   "metadata": {
    "collapsed": true
   },
   "outputs": [],
   "source": [
    "def plot_poly_error(est, order):\n",
    "    train_error = np.empty(order)\n",
    "    test_error = np.empty(order)\n",
    "    for degree in range(order):\n",
    "        model = make_pipeline(PolynomialFeatures(degree), est)\n",
    "        model.fit(X_train, y_train)\n",
    "        train_error[degree] = mean_squared_error(y_train, model.predict(X_train))\n",
    "        test_error[degree] = mean_squared_error(y_test, model.predict(X_test))\n",
    "\n",
    "    # Plot the training and test errors against degree\n",
    "    plt.figure(figsize=(8,6))\n",
    "    plt.plot(np.arange(order), train_error, color='green', label='train')\n",
    "    plt.plot(np.arange(order), test_error, color='red', label='test')\n",
    "    plt.ylabel('log(mean squared error)')\n",
    "    plt.xlabel('degree')\n",
    "    plt.xticks(range(order))\n",
    "    plt.legend(loc='upper left')"
   ]
  },
  {
   "cell_type": "code",
   "execution_count": 30,
   "metadata": {
    "collapsed": true
   },
   "outputs": [],
   "source": [
    "def linear_Matrix(matrix):\n",
    "    \"\"\"Returns a linearly spaced numpy matrix based on the same size of the input matrix.\n",
    "    Matrix must be larger than 1 column.\n",
    "    \"\"\"\n",
    "    m, n = matrix.shape\n",
    "    n_matrix = np.zeros((m,n))\n",
    "    for i in range(n):\n",
    "        n_matrix[:,i] = np.linspace(matrix[:,i].min(), matrix[:,i].max() + 1, m)\n",
    "    return n_matrix"
   ]
  },
  {
   "cell_type": "code",
   "execution_count": 31,
   "metadata": {
    "collapsed": true
   },
   "outputs": [],
   "source": [
    "# Building an m x n dimensional matrix\n",
    "x_plot = linear_Matrix(X_train)"
   ]
  },
  {
   "cell_type": "markdown",
   "metadata": {},
   "source": [
    "# Building the Predictive Model"
   ]
  },
  {
   "cell_type": "markdown",
   "metadata": {},
   "source": [
    "### Parameters"
   ]
  },
  {
   "cell_type": "markdown",
   "metadata": {},
   "source": [
    "## Linear Regression (No Regularization)\n",
    "\n",
    "Ordinary least squares Linear Regression.  \n",
    "http://scikit-learn.org/stable/modules/generated/sklearn.linear_model.LinearRegression.html#sklearn.linear_model.LinearRegression"
   ]
  },
  {
   "cell_type": "code",
   "execution_count": 32,
   "metadata": {},
   "outputs": [
    {
     "name": "stdout",
     "output_type": "stream",
     "text": [
      "R^2       : 0.509793563727\n",
      "MSE (log) : 36.0026097379\n"
     ]
    }
   ],
   "source": [
    "# Create an empty model\n",
    "linear = LinearRegression(normalize=True)\n",
    "\n",
    "# Fit the model to the full dataset\n",
    "linear.fit(X_train, y_train)\n",
    "\n",
    "# store the prediction\n",
    "y_pred = linear.predict(X_test)\n",
    "\n",
    "# Print out the metrics for the model against the full dataset\n",
    "print('R^2       :',linear.score(X_train,y_train))\n",
    "print('MSE (log) :',np.log(mean_squared_error(y_pred, y_test)))"
   ]
  },
  {
   "cell_type": "code",
   "execution_count": 33,
   "metadata": {
    "collapsed": true
   },
   "outputs": [],
   "source": [
    "%matplotlib notebook"
   ]
  },
  {
   "cell_type": "code",
   "execution_count": null,
   "metadata": {
    "collapsed": true
   },
   "outputs": [],
   "source": [
    "sns.set_context('poster')\n",
    "ax = plot_residuals(linear);\n",
    "ax.set_title('Linear Regression Residuals');"
   ]
  },
  {
   "cell_type": "code",
   "execution_count": null,
   "metadata": {
    "collapsed": true
   },
   "outputs": [],
   "source": [
    "ax = plot_actual_predicted(linear)\n",
    "ax.set_title('Actual vs. Predicted (Linear Regression)')\n",
    "ax.set_xlim(-1e7,ax.get_xlim()[1]);"
   ]
  },
  {
   "cell_type": "markdown",
   "metadata": {},
   "source": [
    "Makes a 3D PLOT BRO"
   ]
  },
  {
   "cell_type": "code",
   "execution_count": null,
   "metadata": {
    "collapsed": true,
    "scrolled": true
   },
   "outputs": [],
   "source": [
    "sns.set_context('poster')\n",
    "\n",
    "fig = plt.figure()\n",
    "ax = fig.add_subplot(111, projection='3d')\n",
    "\n",
    "ax.tick_params(direction='out')\n",
    "\n",
    "line_matrix = linear_Matrix(np.array([X[:,0], y, X[:,4]]).T)\n",
    "\n",
    "ax.plot(x_plot[:,0], linear.predict(x_plot), x_plot[:,4] )\n",
    "ax.scatter(X_train[:,0], y_train, X_train[:,4], c='r', marker='o')\n",
    "\n",
    "ax.set_xlabel('Production Budget (sqrt)', labelpad=30)\n",
    "ax.set_ylabel('Domestic Gross', labelpad=30)\n",
    "ax.set_zlabel('Number of Theaters', labelpad=30)\n",
    "\n",
    "# ax.set_xlim(X_train[:,0].min(), X_train[:,0].max())\n",
    "# ax.set_ylim(y.min(), y.max())\n",
    "ax.set_zlim(X_train[:,4].min(), X_train[:,4].max())\n",
    "\n",
    "plt.show()"
   ]
  },
  {
   "cell_type": "code",
   "execution_count": null,
   "metadata": {
    "collapsed": true
   },
   "outputs": [],
   "source": [
    "# %matplotlib inline"
   ]
  },
  {
   "cell_type": "code",
   "execution_count": null,
   "metadata": {
    "collapsed": true
   },
   "outputs": [],
   "source": [
    "sns.set_context('poster')\n",
    "\n",
    "# Checking the model's shape against the heaviest correlated value\n",
    "plt.scatter( X[:,0], y, marker='.')\n",
    "plt.plot( x_plot.T[0].T, linear.predict(x_plot), linewidth=2, color='k' )\n",
    "ax = plt.gca()\n",
    "\n",
    "ax.set_title('Actual vs. Predicted (Linear Regression)')\n",
    "ax.set_xlabel('Production Budget (sqrt)')\n",
    "ax.set_ylabel('Domestic Gross');\n",
    "ax.set_ylim(-10000000, max(y));\n",
    "# ax.set_xlim(-0.01, max(x_plot[0]))"
   ]
  },
  {
   "cell_type": "markdown",
   "metadata": {},
   "source": [
    "## Polynomial Linear Regression"
   ]
  },
  {
   "cell_type": "markdown",
   "metadata": {},
   "source": [
    "Some features look good here.."
   ]
  },
  {
   "cell_type": "code",
   "execution_count": 34,
   "metadata": {},
   "outputs": [
    {
     "name": "stdout",
     "output_type": "stream",
     "text": [
      "R^2       : 0.756220608363\n",
      "MSE (log) : 47.193139645\n"
     ]
    }
   ],
   "source": [
    "# Make the model\n",
    "poly_linear = make_pipeline(PolynomialFeatures(3), LinearRegression(normalize=True))\n",
    "poly_linear.fit(X_train, y_train)\n",
    "\n",
    "# Save some test features and do a prediction\n",
    "X_test_poly = preprocessing.normalize(X_test, axis=0)\n",
    "poly_y_pred = poly_linear.predict(X_test_poly)\n",
    "\n",
    "# Print out the metrics for the model against the full dataset\n",
    "print('R^2       :',poly_linear.score(X_train,y_train))\n",
    "print('MSE (log) :',np.log(mean_squared_error(poly_y_pred, y_test)))"
   ]
  },
  {
   "cell_type": "code",
   "execution_count": 35,
   "metadata": {},
   "outputs": [
    {
     "data": {
      "text/html": [
       "<div>\n",
       "<table border=\"1\" class=\"dataframe\">\n",
       "  <thead>\n",
       "    <tr style=\"text-align: right;\">\n",
       "      <th></th>\n",
       "      <th>features</th>\n",
       "      <th>coefficients</th>\n",
       "    </tr>\n",
       "  </thead>\n",
       "  <tbody>\n",
       "    <tr>\n",
       "      <th>0</th>\n",
       "      <td>production_budget_sqrt</td>\n",
       "      <td>-0.04</td>\n",
       "    </tr>\n",
       "    <tr>\n",
       "      <th>1</th>\n",
       "      <td>made_men</td>\n",
       "      <td>-998360.69</td>\n",
       "    </tr>\n",
       "    <tr>\n",
       "      <th>2</th>\n",
       "      <td>runtime_log</td>\n",
       "      <td>-400680276.10</td>\n",
       "    </tr>\n",
       "    <tr>\n",
       "      <th>3</th>\n",
       "      <td>days_in_theater_log</td>\n",
       "      <td>15493097191.45</td>\n",
       "    </tr>\n",
       "    <tr>\n",
       "      <th>4</th>\n",
       "      <td>number_of_theaters</td>\n",
       "      <td>-5231939171.77</td>\n",
       "    </tr>\n",
       "    <tr>\n",
       "      <th>5</th>\n",
       "      <td>release_month</td>\n",
       "      <td>7657732.12</td>\n",
       "    </tr>\n",
       "  </tbody>\n",
       "</table>\n",
       "</div>"
      ],
      "text/plain": [
       "                 features   coefficients\n",
       "0  production_budget_sqrt          -0.04\n",
       "1                made_men     -998360.69\n",
       "2             runtime_log  -400680276.10\n",
       "3     days_in_theater_log 15493097191.45\n",
       "4      number_of_theaters -5231939171.77\n",
       "5           release_month     7657732.12"
      ]
     },
     "execution_count": 35,
     "metadata": {},
     "output_type": "execute_result"
    }
   ],
   "source": [
    "pd.DataFrame(list(zip(X_df.columns,poly_linear.steps[1][-1].coef_)), columns=['features', 'coefficients'])"
   ]
  },
  {
   "cell_type": "code",
   "execution_count": null,
   "metadata": {
    "collapsed": true,
    "scrolled": false
   },
   "outputs": [],
   "source": [
    "ax = plot_residuals(linear, label=\"Linear\");\n",
    "ax.set_title('3rd Degree Polynomial Linear Regression Residuals');\n",
    "plot_residuals(poly_linear, _plt=ax, color=sns.color_palette()[1], label=\"Poly Linear\").legend();"
   ]
  },
  {
   "cell_type": "code",
   "execution_count": null,
   "metadata": {
    "collapsed": true
   },
   "outputs": [],
   "source": [
    "ax = plot_actual_predicted(linear, label=\"Linear\")\n",
    "ax.set_xlim(-1e7,ax.get_xlim()[1]);\n",
    "ax.set_title('Actual vs. Predicted');\n",
    "plot_actual_predicted(poly_linear, _plt=ax, color=sns.color_palette()[0], label=\"Poly Linear\").legend();"
   ]
  },
  {
   "cell_type": "code",
   "execution_count": null,
   "metadata": {
    "collapsed": true
   },
   "outputs": [],
   "source": [
    "sns.set_context('poster')\n",
    "\n",
    "fig = plt.figure()\n",
    "ax = fig.add_subplot(111, projection='3d')\n",
    "\n",
    "ax.tick_params(direction='out')\n",
    "\n",
    "line_matrix = linear_Matrix(np.array([X[:,0], y, X[:,4]]).T)\n",
    "\n",
    "ax.plot(x_plot[:,0], poly_linear.predict(x_plot), x_plot[:,4], c=sns.color_palette()[1], label='Linear')\n",
    "ax.plot(x_plot[:,0], linear.predict(x_plot),      x_plot[:,4], c=sns.color_palette()[2], label='Poly Linear')\n",
    "ax.scatter(X_train[:,0], y_train, X_train[:,4],                c=sns.color_palette()[0], marker='o')\n",
    "\n",
    "ax.set_xlabel('Production Budget (sqrt)', labelpad=30)\n",
    "ax.set_ylabel('Domestic Gross', labelpad=30)\n",
    "ax.set_zlabel('Number of Theaters', labelpad=30)\n",
    "\n",
    "ax.set_title('Linear vs. 3rd Order Polynomial Linear Regression');\n",
    "\n",
    "# ax.set_xlim(X_train[:,0].min(), X_train[:,0].max())\n",
    "# ax.set_ylim(y.min(), y.max())\n",
    "ax.set_zlim(X_train[:,4].min(), X_train[:,4].max())\n",
    "\n",
    "plt.show();"
   ]
  },
  {
   "cell_type": "code",
   "execution_count": null,
   "metadata": {
    "collapsed": true
   },
   "outputs": [],
   "source": [
    "# Checking the model's shape against the heaviest correlated value\n",
    "sns.set_context('poster')\n",
    "\n",
    "fig = plt.figure(figsize=(10,10))\n",
    "ax = plt.axes()\n",
    "\n",
    "\n",
    "plt.scatter(X[:,0], y, marker='.')\n",
    "# plt.plot( x_plot.T[0].T, poly_linear.predict(x_plot), linewidth=2, color='k' )\n",
    "plt.plot(x_plot[:,0], poly_linear.predict(x_plot), c=sns.color_palette()[1], label='Poly Linear')\n",
    "plt.plot(x_plot[:,0], linear.predict(x_plot),      c=sns.color_palette()[2], label='Linear')\n",
    "ax = plt.gca()\n",
    "ax.set_ylim(-10000000, max(y))\n",
    "\n",
    "ax.set_title('Linear vs. 3rd Order Polynomial Linear Regression');\n",
    "ax.set_xlabel('Production Budget (sqrt)', labelpad=30)\n",
    "ax.set_ylabel('Domestic Gross', labelpad=30)\n",
    "ax.legend();\n"
   ]
  },
  {
   "cell_type": "code",
   "execution_count": null,
   "metadata": {
    "collapsed": true
   },
   "outputs": [],
   "source": [
    "plot_poly_error(LinearRegression(normalize=True), order=10)"
   ]
  },
  {
   "cell_type": "code",
   "execution_count": null,
   "metadata": {
    "collapsed": true
   },
   "outputs": [],
   "source": [
    "# Step through degrees from 0 to 9 and store the training and test (generalization) error.\n",
    "# create array of zeros,\n",
    "train_error = np.empty(10)\n",
    "test_error = np.empty(10)\n",
    "for degree in range(10):\n",
    "    poly_linear = make_pipeline(PolynomialFeatures(degree), LinearRegression())\n",
    "    poly_linear.fit(X_train, y_train)\n",
    "    train_error[degree] = mean_squared_error(y_train, poly_linear.predict(X_train))\n",
    "    test_error[degree] = mean_squared_error(y_test, poly_linear.predict(X_test))\n",
    "\n",
    "# Plot the training and test errors against degree\n",
    "plt.figure(figsize=(8,6))\n",
    "plt.plot(np.arange(10), train_error, color=sns.color_palette()[0], label='train')\n",
    "plt.plot(np.arange(10), test_error,  color=sns.color_palette()[1], label='test')\n",
    "plt.ylabel('log(mean squared error)', labelpad=-3)\n",
    "plt.xlabel('Polynomial Degree')\n",
    "plt.title('Error of Linear Polynomial Models')\n",
    "plt.legend(loc='upper left');"
   ]
  },
  {
   "cell_type": "markdown",
   "metadata": {},
   "source": [
    "To address the high bias of the degrees of 2 or 3 degrees looks like a good start"
   ]
  },
  {
   "cell_type": "markdown",
   "metadata": {},
   "source": [
    "I'm beginning to understand the struggle to get the right model!  \n",
    "Let's try passing this to a lasso"
   ]
  },
  {
   "cell_type": "markdown",
   "metadata": {},
   "source": [
    "## Lasso"
   ]
  },
  {
   "cell_type": "code",
   "execution_count": null,
   "metadata": {
    "collapsed": true
   },
   "outputs": [],
   "source": [
    "np_lasso = LassoCV(normalize=True, cv=5)\n",
    "np_lasso = np_lasso.fit(X_train, y_train)\n",
    "\n",
    "y_pred = np_lasso.predict(X_test)"
   ]
  },
  {
   "cell_type": "code",
   "execution_count": null,
   "metadata": {
    "collapsed": true
   },
   "outputs": [],
   "source": [
    "plot_actual_predicted(np_lasso)"
   ]
  },
  {
   "cell_type": "markdown",
   "metadata": {},
   "source": [
    "### Checking lasso effects "
   ]
  },
  {
   "cell_type": "code",
   "execution_count": null,
   "metadata": {
    "collapsed": true
   },
   "outputs": [],
   "source": [
    "sns.set_context('poster')\n",
    "\n",
    "fig = plt.figure()\n",
    "ax = fig.add_subplot(111, projection='3d')\n",
    "\n",
    "ax.tick_params(direction='out')\n",
    "\n",
    "line_matrix = linear_Matrix(np.array([X[:,0], y, X[:,4]]).T)\n",
    "\n",
    "ax.plot(x_plot[:,0], np_lasso.predict(x_plot), x_plot[:,4] )\n",
    "ax.scatter(X_train[:,0], y_train, X_train[:,4], c='r', marker='o')\n",
    "\n",
    "ax.set_xlabel('Production Budget (log)', labelpad=30)\n",
    "ax.set_ylabel('Domestic Gross', labelpad=30)\n",
    "ax.set_zlabel('Number of Theaters', labelpad=30)\n",
    "\n",
    "# ax.set_xlim(X_train[:,0].min(), X_train[:,0].max())\n",
    "# ax.set_ylim(y.min(), y.max())\n",
    "ax.set_zlim(X_train[:,4].min(), X_train[:,4].max())\n",
    "\n",
    "ax.view_init(elev=20., azim=-180)\n",
    "\n",
    "plt.show()"
   ]
  },
  {
   "cell_type": "code",
   "execution_count": null,
   "metadata": {
    "collapsed": true
   },
   "outputs": [],
   "source": [
    "fig = plt.figure()\n",
    "ax = fig.add_subplot(111, projection='3d')\n",
    "\n",
    "ax.tick_params(direction='out')\n",
    "\n",
    "ax.plot(x_plot[:,0], np_lasso.predict(x_plot), x_plot[:,4] )\n",
    "ax.scatter(X_train[:,0], y_train, X_train[:,4], c='r', marker='o')\n",
    "\n",
    "\n",
    "\n",
    "ax.set_xlabel('Production Budget (log)', labelpad=30)\n",
    "ax.set_ylabel('Domestic Gross', labelpad=30)\n",
    "ax.set_zlabel('Number of Theaters', labelpad=30)\n",
    "\n",
    "# ax.set_xlim(X_train[:,0].min(), X_train[:,0].max())\n",
    "# ax.set_ylim(y.min(), y.max())\n",
    "ax.set_zlim(X_train[:,4].min(), X_train[:,4].max())\n",
    "\n",
    "\n",
    "\n",
    "plt.show()"
   ]
  },
  {
   "cell_type": "markdown",
   "metadata": {},
   "source": [
    "## Polynomial Lasso  \n",
    "Least absolute shrinkage and selection operator  \n",
    "https://en.wikipedia.org/wiki/Lasso_(statistics)"
   ]
  },
  {
   "cell_type": "code",
   "execution_count": null,
   "metadata": {
    "collapsed": true,
    "scrolled": false
   },
   "outputs": [],
   "source": [
    "# Step through degrees from 0 to 9 and store the training and test (generalization) error.\n",
    "# create array of zeros,\n",
    "train_error = np.empty(6)\n",
    "test_error = np.empty(6)\n",
    "for degree in range(6):\n",
    "    poly_lasso = make_pipeline(PolynomialFeatures(degree), LassoCV(normalize=True, cv=3))\n",
    "    poly_lasso.fit(X_train, y_train)\n",
    "    train_error[degree] = mean_squared_error(y_train, poly_lasso.predict(X_train))\n",
    "    test_error[degree] = mean_squared_error(y_test, poly_lasso.predict(X_test))\n",
    "\n",
    "# Plot the training and test errors against degree\n",
    "plt.figure(figsize=(8,6))\n",
    "plt.plot(np.arange(6), train_error, color=sns.color_palette()[0], label='train')\n",
    "plt.plot(np.arange(6), test_error,  color=sns.color_palette()[1], label='test')\n",
    "plt.ylabel('log(mean squared error)', labelpad=-3)\n",
    "plt.xlabel('Polynomial Degree')\n",
    "plt.title('Error of Lasso Polynomial Models')\n",
    "plt.legend(loc='upper left');"
   ]
  },
  {
   "cell_type": "code",
   "execution_count": null,
   "metadata": {
    "collapsed": true
   },
   "outputs": [],
   "source": [
    "degrees = 3\n",
    "pf = PolynomialFeatures(degrees)\n",
    "\n",
    "X_train_pf = pf.fit_transform(X_train)\n",
    "X_test_pf =  pf.transform(X_test)\n",
    "\n",
    "lasso_plot = linear_Matrix(X_train_pf)\n",
    "\n",
    "lasso = LassoCV(normalize=True, cv=5)\n",
    "lasso = lasso.fit(X_train_pf, y_train)\n",
    "\n",
    "y_pred = lasso.predict(X_test_pf)\n",
    "lasso.score(X_train_pf, y_train)\n",
    "\n",
    "# Print out the metrics for the model against the full dataset\n",
    "print('R^2       :',lasso.score(X_train_pf,y_train))\n",
    "print('MSE (log) :',np.log(mean_squared_error(y_pred, y_test)))"
   ]
  },
  {
   "cell_type": "code",
   "execution_count": null,
   "metadata": {
    "collapsed": true
   },
   "outputs": [],
   "source": [
    "ax = plot_residuals(linear, label=\"Linear\");\n",
    "plot_residuals(poly_linear, _plt=ax,               color=sns.color_palette()[1], label=\"Poly Linear\")\n",
    "\n",
    "# adjust column it's pulling in the X axis for since X_test_pf includes the intercept\n",
    "# you can see the features here: pf.get_feature_names()\n",
    "plot_residuals(lasso, features=X_test_pf, col=1,_plt=ax, color=sns.color_palette()[2], label=\"Poly Lasso\")\n",
    "\n",
    "ttl = ax.set_title('Linear Regression, 3rd Degree Polynomial Linear & Lasso Regression Residuals');\n",
    "ttl.set_position([.5, 1.05])\n",
    "ax.legend();"
   ]
  },
  {
   "cell_type": "code",
   "execution_count": null,
   "metadata": {
    "collapsed": true
   },
   "outputs": [],
   "source": [
    "ax = plot_actual_predicted(linear, label=\"Linear\")\n",
    "plot_actual_predicted(poly_linear, _plt=ax, color=sns.color_palette()[0], label=\"Poly Linear\")\n",
    "plot_actual_predicted(lasso      , _plt=ax, color=sns.color_palette()[0], label=\"Poly Linear\", features=X_test_pf)\n",
    "\n",
    "ax.legend();\n",
    "ax.set_xlim(-1e7,ax.get_xlim()[1]);\n",
    "ax.set_title('Actual vs. Predicted');"
   ]
  },
  {
   "cell_type": "code",
   "execution_count": null,
   "metadata": {
    "collapsed": true
   },
   "outputs": [],
   "source": [
    "sns.set_context('poster')\n",
    "\n",
    "fig = plt.figure()\n",
    "ax = fig.add_subplot(111, projection='3d')\n",
    "\n",
    "ax.tick_params(direction='out')\n",
    "\n",
    "line_matrix = linear_Matrix(np.array([X[:,0], y, X[:,4]]).T)\n",
    "\n",
    "ax.plot(x_plot[:,0], poly_linear.predict(x_plot),  x_plot[:,4],     c=sns.color_palette()[1], label='Linear')\n",
    "ax.plot(x_plot[:,0], linear.predict(x_plot),       x_plot[:,4],     c=sns.color_palette()[2], label='Poly Linear')\n",
    "ax.plot(lasso_plot[:,1], lasso.predict(lasso_plot),lasso_plot[:,5], c=sns.color_palette()[3], label='Lasso')\n",
    "ax.scatter(X_train[:,0], y_train, X_train[:,4],                c=sns.color_palette()[0], marker='o')\n",
    "\n",
    "ax.set_xlabel('Production Budget (sqrt)', labelpad=30)\n",
    "ax.set_ylabel('Domestic Gross', labelpad=30)\n",
    "ax.set_zlabel('Number of Theaters', labelpad=30)\n",
    "\n",
    "ax.set_title('Linear vs. 3rd Order Polynomials');\n",
    "ax.legend()\n",
    "\n",
    "# ax.set_xlim(X_train[:,0].min(), X_train[:,0].max())\n",
    "# ax.set_ylim(y.min(), y.max())\n",
    "ax.set_zlim(X_train[:,4].min(), X_train[:,4].max())\n",
    "\n",
    "plt.show();"
   ]
  },
  {
   "cell_type": "code",
   "execution_count": null,
   "metadata": {
    "collapsed": true
   },
   "outputs": [],
   "source": [
    "sns.set_context('poster')\n",
    "\n",
    "fig = plt.figure()\n",
    "ax = fig.add_subplot(111, projection='3d')\n",
    "\n",
    "ax.tick_params(direction='out')\n",
    "\n",
    "line_matrix = linear_Matrix(np.array([X[:,0], y, X[:,4]]).T)\n",
    "\n",
    "# ax.plot(x_plot[:,0], poly_linear.predict(x_plot),  x_plot[:,4],     c=sns.color_palette()[1], label='Linear')\n",
    "ax.plot(x_plot[:,0], linear.predict(x_plot),       x_plot[:,4],     c=sns.color_palette()[2], label='Poly Linear')\n",
    "ax.plot(lasso_plot[:,1], lasso.predict(lasso_plot),lasso_plot[:,5], c=sns.color_palette()[3], label='Lasso')\n",
    "ax.scatter(X_train[:,0], y_train, X_train[:,4],                     c=sns.color_palette()[0], marker='o')\n",
    "\n",
    "ax.set_xlabel('Production Budget (sqrt)', labelpad=30)\n",
    "ax.set_ylabel('Domestic Gross', labelpad=30)\n",
    "ax.set_zlabel('Number of Theaters', labelpad=30)\n",
    "\n",
    "ax.set_title('Linear vs. 3rd Order Polynomials');\n",
    "ax.legend()\n",
    "\n",
    "# ax.set_xlim(X_train[:,0].min(), X_train[:,0].max())\n",
    "# ax.set_ylim(y.min(), y.max())\n",
    "ax.set_zlim(X_train[:,4].min(), X_train[:,4].max())\n",
    "\n",
    "plt.show();"
   ]
  },
  {
   "cell_type": "code",
   "execution_count": null,
   "metadata": {
    "collapsed": true
   },
   "outputs": [],
   "source": [
    "sns.set_context('poster')\n",
    "\n",
    "# Checking the model's shape against the heaviest correlated value\n",
    "plt.scatter( X[:,0], y, marker='.')\n",
    "plt.plot( lasso_plot[:,1], lasso.predict(lasso_plot), linewidth=2, color='k' )\n",
    "ax = plt.gca()\n",
    "\n",
    "ax.set_title('Budget vs. Gross (Polynomial Lasso Regression)')\n",
    "ax.set_xlabel('Production Budget (sqrt)')\n",
    "ax.set_ylabel('Domestic Gross');\n",
    "ax.set_ylim(-10000000, max(y));\n",
    "# ax.set_xlim(-0.01, max(x_plot[0]))"
   ]
  },
  {
   "cell_type": "code",
   "execution_count": null,
   "metadata": {
    "collapsed": true
   },
   "outputs": [],
   "source": [
    "fig = plt.figure(figsize=(5,5))\n",
    "ax = plt.axes()\n",
    "line = np.linspace(y_test.min(), y_test.max(), 360)\n",
    "\n",
    "ax.plot(y_test, y_pred, marker='o', ls='', ms=5)\n",
    "ax.plot(line, line)\n",
    "\n",
    "min_val = min(ax.get_xlim()[0],ax.get_ylim()[0])\n",
    "max_val = max(ax.get_xlim()[1],ax.get_ylim()[1])\n",
    "ax.set_xlim(min_val, max_val)\n",
    "ax.set_ylim(min_val, max_val);"
   ]
  },
  {
   "cell_type": "code",
   "execution_count": null,
   "metadata": {
    "collapsed": true
   },
   "outputs": [],
   "source": [
    "sns.set_context('poster')\n",
    "\n",
    "fig = plt.figure()\n",
    "ax = fig.add_subplot(111, projection='3d')\n",
    "\n",
    "ax.plot(lasso_plot[:,1], lasso.predict(lasso_plot), lasso_plot[:,5] )\n",
    "ax.scatter(X_train_pf[:,1], y_train, X_train_pf[:,5], c='r', marker='o')\n",
    "\n",
    "ax.tick_params(direction='out')\n",
    "\n",
    "ax.set_xlabel('Production Budget (log)', labelpad=30)\n",
    "ax.set_ylabel('Domestic Gross', labelpad=30)\n",
    "ax.set_zlabel('Number of Theaters', labelpad=30)\n",
    "\n",
    "# ax.set_xlim(X_train[:,0].min(), X_train[:,0].max())\n",
    "# ax.set_ylim(y.min(), y.max())\n",
    "ax.set_zlim(X_train[:,4].min(), X_train[:,4].max())\n",
    "\n",
    "ax.view_init(elev=20., azim=-180)\n",
    "\n",
    "plt.show()"
   ]
  },
  {
   "cell_type": "code",
   "execution_count": null,
   "metadata": {
    "collapsed": true
   },
   "outputs": [],
   "source": [
    "# # Checking the model's shape against the heaviest correlated value\n",
    "# plot_matrix = preprocessing.normalize(linear_Matrix(X_test_pf))\n",
    "# plot_pred = preprocessing.normalize(lasso.predict(plot_matrix).T)\n",
    "\n",
    "# plt.scatter(preprocessing.normalize(X_test[:,0]), preprocessing.normalize(y_test), marker='.')\n",
    "# plt.plot(plot_matrix[:,0] , plot_pred, linewidth=2, color='k' )\n",
    "# ax = plt.gca()"
   ]
  },
  {
   "cell_type": "code",
   "execution_count": null,
   "metadata": {
    "collapsed": true,
    "scrolled": true
   },
   "outputs": [],
   "source": [
    "sorted(lasso.coef_, key=abs, reverse=True)"
   ]
  },
  {
   "cell_type": "code",
   "execution_count": null,
   "metadata": {
    "collapsed": true
   },
   "outputs": [],
   "source": [
    "lasso.alpha_, lasso.coef_"
   ]
  },
  {
   "cell_type": "code",
   "execution_count": null,
   "metadata": {
    "collapsed": true
   },
   "outputs": [],
   "source": [
    "np.log(mean_squared_error(y_test, y_pred))"
   ]
  },
  {
   "cell_type": "markdown",
   "metadata": {},
   "source": [
    "#### Revisit ..."
   ]
  },
  {
   "cell_type": "code",
   "execution_count": null,
   "metadata": {
    "collapsed": true
   },
   "outputs": [],
   "source": [
    "plot_poly_error(LassoCV(normalize=True, cv=5), 5)"
   ]
  },
  {
   "cell_type": "code",
   "execution_count": null,
   "metadata": {
    "collapsed": true
   },
   "outputs": [],
   "source": [
    "# Looking at above, the lower the penalty on the coefficients, the better?\n",
    "poly_lasso.set_params(lasso__alpha=1e-8)\n",
    "np.mean(y_test - poly_lasso.predict(X_test))"
   ]
  },
  {
   "cell_type": "code",
   "execution_count": null,
   "metadata": {
    "collapsed": true
   },
   "outputs": [],
   "source": [
    "# # Checking the model's shape against the heaviest correlated value\n",
    "# plt.scatter(X_train[:,0], y_train, marker='.') # production budget vs domestic gross\n",
    "# plt.plot( x_plot.T[0].T, lasso.predict(X_train), linewidth=2, color='k' ) # plot against data\n",
    "# ax = plt.gca() \n",
    "# ax.set_ylim(-0.01, 0.19)\n",
    "# ax.set_xlim(-0.01, 0.065)"
   ]
  },
  {
   "cell_type": "code",
   "execution_count": null,
   "metadata": {
    "collapsed": true
   },
   "outputs": [],
   "source": [
    "lasso"
   ]
  },
  {
   "cell_type": "code",
   "execution_count": null,
   "metadata": {
    "collapsed": true
   },
   "outputs": [],
   "source": [
    "# this determines the best coefficients \n",
    "all_scores = []\n",
    "\n",
    "for train, test in kf.split(X):\n",
    "    x_tr = X.iloc[train]\n",
    "    y_tr = y.iloc[train]\n",
    "    x_te = X.iloc[test]\n",
    "    y_te = y.iloc[test]\n",
    "    mse_score = []\n",
    "    for i in alphas:\n",
    "        lasso.set_params(lasso__alpha=i)\n",
    "        lasso.fit(x_tr,y_tr)\n",
    "        mse = np.mean((y_te - lasso.predict(x_te))**2)\n",
    "        mse_score.append(mse)\n",
    "    all_scores.append(mse_score)\n",
    "\n",
    "zipped = zip(X.columns, lasso.coef_)\n",
    "features = sorted(zipped, key = lambda x: abs(x[1]), reverse=True)\n",
    "for f in features[:]:\n",
    "    print (\"{:20.20s} {:7.3f}\".format(f[0], f[1]))"
   ]
  },
  {
   "cell_type": "markdown",
   "metadata": {},
   "source": [
    "## Ridge Regression\n",
    "\n",
    "\n",
    "http://scikit-learn.org/stable/modules/generated/sklearn.linear_model.RidgeCV.html#sklearn.linear_model.RidgeCV"
   ]
  },
  {
   "cell_type": "code",
   "execution_count": null,
   "metadata": {
    "collapsed": true
   },
   "outputs": [],
   "source": [
    "plot_poly_error(RidgeCV(normalize=True, cv=5), 5);"
   ]
  },
  {
   "cell_type": "code",
   "execution_count": null,
   "metadata": {
    "collapsed": true
   },
   "outputs": [],
   "source": [
    "# Set up a figure and axes for 8 plots, 2 per row for 4 rows\n",
    "fig, ax_rows = plt.subplots(4, 2, figsize=(15, 20))\n",
    "\n",
    "degree = 2\n",
    "alphas = [1e-5, 1, 10, 100]\n",
    "for alpha, ax_row in zip(alphas, ax_rows):\n",
    "    ax_left, ax_right = ax_row\n",
    "    est = make_pipeline(PolynomialFeatures(degree), Ridge(alpha=alpha, normalize=True))\n",
    "    est.fit(X_train, y_train)\n",
    "    plot_approximation(est, ax_left, label='alpha=%r' % alpha)\n",
    "    plot_coefficients(est, ax_right, label='Ridge(alpha=%r) coefficients' % alpha)\n",
    "\n",
    "plt.tight_layout()"
   ]
  },
  {
   "cell_type": "markdown",
   "metadata": {},
   "source": [
    "## Elastic Net"
   ]
  },
  {
   "cell_type": "code",
   "execution_count": null,
   "metadata": {
    "collapsed": true
   },
   "outputs": [],
   "source": [
    "%matplotlib inline"
   ]
  },
  {
   "cell_type": "code",
   "execution_count": null,
   "metadata": {
    "collapsed": true
   },
   "outputs": [],
   "source": [
    "enet = ElasticNetCV(alphas = [1e-5,1e-3,1e-1,1,100],\n",
    "                    l1_ratio = [1e-5,1e-3,1e-1,0.1,0.9,0.5],\n",
    "                    normalize=True, \n",
    "                    cv=5,\n",
    "                    random_state=9)\n",
    "enet = enet.fit(X_train, y_train)\n",
    "\n",
    "y_pred = enet.predict(X_test)"
   ]
  },
  {
   "cell_type": "code",
   "execution_count": null,
   "metadata": {
    "collapsed": true
   },
   "outputs": [],
   "source": [
    "poly_enet = make_pipeline(PolynomialFeatures(2), \n",
    "                          ElasticNetCV(alphas = [1e-5,1e-3,1e-1,1,100],\n",
    "                                       l1_ratio = [1e-8,1e-5,1e-3,1e-1,0.1,0.9,0.5],\n",
    "                                       normalize=True, \n",
    "                                       cv=5,\n",
    "                                       random_state=9))\n",
    "poly_enet.fit(X_train, y_train)\n",
    "X_train_pf =  poly_enet.steps[0][-1].transform(X_train)\n",
    "poly_enet_plot = linear_Matrix(X_train)\n",
    "\n",
    "poly_enet.score(X_train, y_train)"
   ]
  },
  {
   "cell_type": "code",
   "execution_count": null,
   "metadata": {
    "collapsed": true
   },
   "outputs": [],
   "source": [
    "print('Best Alpha:', enet.alpha_)\n",
    "print('Ratio:', enet.l1_ratio_)\n",
    "print('MSE (log):', np.log(mean_squared_error(y_test,enet.predict(X_test))))\n",
    "print('Top 20 Coefficients:')\n",
    "pprint(sorted(poly_enet.steps[1][-1].coef_, key=abs, reverse=True)[:20])"
   ]
  },
  {
   "cell_type": "code",
   "execution_count": null,
   "metadata": {
    "collapsed": true
   },
   "outputs": [],
   "source": [
    "plot_residuals(poly_enet);"
   ]
  },
  {
   "cell_type": "code",
   "execution_count": null,
   "metadata": {
    "collapsed": true
   },
   "outputs": [],
   "source": [
    "plot_actual_predicted(poly_enet)"
   ]
  },
  {
   "cell_type": "code",
   "execution_count": null,
   "metadata": {
    "collapsed": true
   },
   "outputs": [],
   "source": [
    "sns.set_context('poster')\n",
    "\n",
    "fig = plt.figure()\n",
    "ax = fig.add_subplot(111, projection='3d')\n",
    "\n",
    "# ax.plot(x_plot[:,1], poly_enet.predict(x_plot), x_plot[:,5] )\n",
    "ax.scatter(X_train[:,1], y_train, X_train[:,5], c='r', marker='o')\n",
    "\n",
    "ax.tick_params(direction='out')\n",
    "\n",
    "ax.set_xlabel('Production Budget (log)', labelpad=30)\n",
    "ax.set_ylabel('Domestic Gross', labelpad=30)\n",
    "ax.set_zlabel('Number of Theaters', labelpad=30)\n",
    "\n",
    "# ax.set_xlim(X_train[:,0].min(), X_train[:,0].max())\n",
    "# ax.set_ylim(y.min(), y.max())\n",
    "ax.set_zlim(X_train[:,4].min(), X_train[:,4].max())\n",
    "\n",
    "# ax.view_init(elev=20., azim=-180)\n",
    "\n",
    "plt.show()"
   ]
  },
  {
   "cell_type": "code",
   "execution_count": null,
   "metadata": {
    "collapsed": true
   },
   "outputs": [],
   "source": []
  }
 ],
 "metadata": {
  "kernelspec": {
   "display_name": "Python 3",
   "language": "python",
   "name": "python3"
  },
  "language_info": {
   "codemirror_mode": {
    "name": "ipython",
    "version": 3
   },
   "file_extension": ".py",
   "mimetype": "text/x-python",
   "name": "python",
   "nbconvert_exporter": "python",
   "pygments_lexer": "ipython3",
   "version": "3.6.1"
  }
 },
 "nbformat": 4,
 "nbformat_minor": 2
}
