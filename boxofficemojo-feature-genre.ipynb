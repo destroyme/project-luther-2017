{
 "cells": [
  {
   "cell_type": "code",
   "execution_count": 1,
   "metadata": {
    "collapsed": true
   },
   "outputs": [],
   "source": [
    "# Modeling\n",
    "import statsmodels.api as sm\n",
    "import statsmodels.formula.api as smf\n",
    "import patsy\n",
    "from sklearn.linear_model import LinearRegression\n",
    "from sklearn.linear_model import RidgeCV\n",
    "\n",
    "# Using PolynomialFeatures and make_pipeline for Polynomial Regression\n",
    "from sklearn.preprocessing import PolynomialFeatures\n",
    "from sklearn.pipeline import make_pipeline\n",
    "\n",
    "# Data wrangling\n",
    "import pandas as pd\n",
    "import numpy as np\n",
    "import re\n",
    "\n",
    "# Time\n",
    "import time\n",
    "import datetime\n",
    "from datetime import datetime as dt\n",
    "import dateutil.parser\n",
    "\n",
    "# Plotting\n",
    "# import matplotlib.pyplot as plt\n",
    "import seaborn as sns\n",
    "from seaborn import plt\n",
    "\n",
    "# URL Grabbing\n",
    "import requests\n",
    "\n",
    "# Scraping / Searching\n",
    "from bs4 import BeautifulSoup\n",
    "import re\n",
    "\n",
    "# Misc\n",
    "import pickle\n",
    "from pprint import pprint\n",
    "\n",
    "%matplotlib inline\n",
    "pd.set_option('display.float_format', lambda x: '%.2f' % x) # reduces the amount of decimals when printing the df's"
   ]
  },
  {
   "cell_type": "code",
   "execution_count": 21,
   "metadata": {
    "collapsed": true
   },
   "outputs": [],
   "source": [
    "with open(\"movies.pkl\", 'rb') as picklefile: \n",
    "    df = pickle.load(picklefile)"
   ]
  },
  {
   "cell_type": "code",
   "execution_count": 22,
   "metadata": {},
   "outputs": [],
   "source": [
    "genre = df.genre.str.replace('/','')"
   ]
  },
  {
   "cell_type": "code",
   "execution_count": 24,
   "metadata": {},
   "outputs": [],
   "source": [
    "genre = genre.str.strip()\n",
    "# genre = df.genre.str.replace('  ',' ')"
   ]
  },
  {
   "cell_type": "code",
   "execution_count": 25,
   "metadata": {},
   "outputs": [
    {
     "data": {
      "text/plain": [
       "0                 Romance\n",
       "1           Sci-Fi Action\n",
       "2             Documentary\n",
       "3                   Drama\n",
       "4                  Comedy\n",
       "5                  Horror\n",
       "6         Romantic Comedy\n",
       "7         Action Thriller\n",
       "8             Documentary\n",
       "9                 Foreign\n",
       "10          Sports Comedy\n",
       "11                Romance\n",
       "12                Foreign\n",
       "13               Thriller\n",
       "14                Musical\n",
       "15                Foreign\n",
       "16            Documentary\n",
       "17            Documentary\n",
       "18          Comedy  Drama\n",
       "19                Foreign\n",
       "20                Fantasy\n",
       "21                 Comedy\n",
       "22                Romance\n",
       "23        Horror Thriller\n",
       "24                  Drama\n",
       "25                 Comedy\n",
       "26          Comedy  Drama\n",
       "27                  Drama\n",
       "28         Fantasy Comedy\n",
       "29                  Drama\n",
       "              ...        \n",
       "9935      Romantic Comedy\n",
       "9936            Animation\n",
       "9937            Animation\n",
       "9938        Action Comedy\n",
       "9939        Action Comedy\n",
       "9940              Foreign\n",
       "9941          Documentary\n",
       "9942      Romantic Comedy\n",
       "9943              Foreign\n",
       "9944              Foreign\n",
       "9945      Romantic Comedy\n",
       "9946              Foreign\n",
       "9947      Romantic Comedy\n",
       "9948          Documentary\n",
       "9949               Horror\n",
       "9950               Action\n",
       "9951                Drama\n",
       "9952          Documentary\n",
       "9953              Foreign\n",
       "9954                  NaN\n",
       "9955             Thriller\n",
       "9956                  NaN\n",
       "9957        Family Comedy\n",
       "9958              Foreign\n",
       "9959    Action  Adventure\n",
       "9960                Drama\n",
       "9961         Period Drama\n",
       "9962        Period Horror\n",
       "9963          Documentary\n",
       "9964              Foreign\n",
       "Name: genre, dtype: object"
      ]
     },
     "execution_count": 25,
     "metadata": {},
     "output_type": "execute_result"
    }
   ],
   "source": [
    "genre"
   ]
  },
  {
   "cell_type": "code",
   "execution_count": 15,
   "metadata": {},
   "outputs": [
    {
     "data": {
      "text/plain": [
       "0                    [Romance]\n",
       "1             [Sci-Fi, Action]\n",
       "2                [Documentary]\n",
       "3                      [Drama]\n",
       "4                     [Comedy]\n",
       "5                     [Horror]\n",
       "6           [Romantic, Comedy]\n",
       "7           [Action, Thriller]\n",
       "8                [Documentary]\n",
       "9                    [Foreign]\n",
       "10            [Sports, Comedy]\n",
       "11                   [Romance]\n",
       "12                   [Foreign]\n",
       "13                  [Thriller]\n",
       "14                   [Musical]\n",
       "15                   [Foreign]\n",
       "16               [Documentary]\n",
       "17               [Documentary]\n",
       "18          [Comedy, /, Drama]\n",
       "19                   [Foreign]\n",
       "20                   [Fantasy]\n",
       "21                    [Comedy]\n",
       "22                   [Romance]\n",
       "23          [Horror, Thriller]\n",
       "24                     [Drama]\n",
       "25                    [Comedy]\n",
       "26          [Comedy, /, Drama]\n",
       "27                     [Drama]\n",
       "28           [Fantasy, Comedy]\n",
       "29                     [Drama]\n",
       "                 ...          \n",
       "9935        [Romantic, Comedy]\n",
       "9936               [Animation]\n",
       "9937               [Animation]\n",
       "9938          [Action, Comedy]\n",
       "9939          [Action, Comedy]\n",
       "9940                 [Foreign]\n",
       "9941             [Documentary]\n",
       "9942        [Romantic, Comedy]\n",
       "9943                 [Foreign]\n",
       "9944                 [Foreign]\n",
       "9945        [Romantic, Comedy]\n",
       "9946                 [Foreign]\n",
       "9947        [Romantic, Comedy]\n",
       "9948             [Documentary]\n",
       "9949                  [Horror]\n",
       "9950                  [Action]\n",
       "9951                   [Drama]\n",
       "9952             [Documentary]\n",
       "9953                 [Foreign]\n",
       "9954                       NaN\n",
       "9955                [Thriller]\n",
       "9956                       NaN\n",
       "9957          [Family, Comedy]\n",
       "9958                 [Foreign]\n",
       "9959    [Action, /, Adventure]\n",
       "9960                   [Drama]\n",
       "9961           [Period, Drama]\n",
       "9962          [Period, Horror]\n",
       "9963             [Documentary]\n",
       "9964                 [Foreign]\n",
       "Name: genre, dtype: object"
      ]
     },
     "execution_count": 15,
     "metadata": {},
     "output_type": "execute_result"
    }
   ],
   "source": [
    "genre.str.split(' ')"
   ]
  }
 ],
 "metadata": {
  "kernelspec": {
   "display_name": "Python 3",
   "language": "python",
   "name": "python3"
  },
  "language_info": {
   "codemirror_mode": {
    "name": "ipython",
    "version": 3
   },
   "file_extension": ".py",
   "mimetype": "text/x-python",
   "name": "python",
   "nbconvert_exporter": "python",
   "pygments_lexer": "ipython3",
   "version": "3.6.1"
  }
 },
 "nbformat": 4,
 "nbformat_minor": 2
}
